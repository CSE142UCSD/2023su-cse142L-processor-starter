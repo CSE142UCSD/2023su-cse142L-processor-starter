{
 "cells": [
  {
   "cell_type": "code",
   "execution_count": null,
   "metadata": {
    "deletable": false,
    "editable": false,
    "init_cell": true,
    "tags": []
   },
   "outputs": [],
   "source": [
    "%load_ext autoreload\n",
    "%autoreload 2\n",
    "from notebook import *\n",
    "# if get something about NUMEXPR_MAX_THREADS being set incorrectly, don't worry.  It's not a problem."
   ]
  },
  {
   "cell_type": "markdown",
   "metadata": {
    "cse142.is_response": true,
    "deletable": false,
    "editable": true,
    "tags": []
   },
   "source": [
    "<div class=\"namebox\">    \n",
    "Double Click to edit and enter your\n",
    "\n",
    "1.  Name\n",
    "2.  Student ID\n",
    "3.  @ucsd.edu email address\n",
    "    \n",
    "</div>"
   ]
  },
  {
   "cell_type": "markdown",
   "metadata": {
    "deletable": false,
    "editable": false,
    "tags": []
   },
   "source": [
    "<div style=\" font-size: 300% !important;\n",
    "    margin-top: 1.5em;\n",
    "    margin-bottom: 10px;\n",
    "    font-weight: bold;\n",
    "    line-height: 1.0;\n",
    "    text-align:center;\">\n",
    "Lab 3: Exploiting the features of modern processors\n",
    "</div>"
   ]
  },
  {
   "cell_type": "markdown",
   "metadata": {
    "deletable": false,
    "editable": false,
    "tags": []
   },
   "source": [
    "In this lab, you'll learn about the concepts of:\n",
    "\n",
    "1. Function calls and compiler optimizations\n",
    "2. Instruction-level parallelism\n",
    "3. Memory level parallelsim\n",
    "4. Superscalar/out-of-order pipeline\n",
    "5. Branch prediction\n",
    "\n",
    "You are strongly encouraged to go through the following documents before starting.\n",
    "1.  The x86-64 assembly http://www.cs.cmu.edu/~fp/courses/15213-s06/misc/asm64-handout.pdf\n",
    "2.  Intel Alder Lake CPU Architectures https://ieeexplore.ieee.org/document/9747991\n",
    "\n",
    "This lab includes a programming assignment. \n",
    "\n",
    "Check the course schedule for due date(s).\n",
    "\n",
    "We need to thank [Dr. Steven Swanson](https://cseweb.ucsd.edu/~swanson/) as a significant part of the lab is orginated from Dr. Swanson's teaching materials."
   ]
  },
  {
   "cell_type": "markdown",
   "metadata": {
    "deletable": false,
    "editable": false,
    "tags": []
   },
   "source": [
    "# FAQ and Updates"
   ]
  },
  {
   "cell_type": "markdown",
   "metadata": {
    "editable": false
   },
   "source": [
    "* There are no updates, yet."
   ]
  },
  {
   "cell_type": "markdown",
   "metadata": {
    "deletable": false,
    "editable": false,
    "tags": []
   },
   "source": [
    "## Keeping Your Lab Up-to-Date\n",
    "\n",
    "Occasionally, there will be changes made to the base repository after the\n",
    "lab is released.  This may include bug fixes and updates to this document.  We'll post on piazza when an update is available.\n",
    "\n",
    "In those cases, you can use the following commands to pull the changes from upstream and merge them into your code.  You'll need to do this at a shell.  It won't work properly in the notebook.  **Save your notebook in the browser first**.\n"
   ]
  },
  {
   "cell_type": "markdown",
   "metadata": {
    "deletable": false,
    "editable": false,
    "tags": []
   },
   "source": [
    "```\n",
    "cd <your directory for this lab>git remote add upstream $(cat .starter_repo)  # You need to do this once each time you checkout a new lab. It will fail \n",
    "                                              # harmlessly if you run it more than once.\n",
    "cp Lab.ipynb Lab.backup.ipynb                 # Backup your work.\n",
    "git commit -am \"My progress so far.\"          # commit your work.\n",
    "git pull upstream main --allow-unrelated-histories -X theirs # pull the updates\n",
    "```\n",
    "\n",
    "Or you can use the script we provide:\n",
    "\n",
    "```\n",
    "./fix-repo\n",
    "./pull-updates\n",
    "```\n"
   ]
  },
  {
   "cell_type": "markdown",
   "metadata": {
    "deletable": false,
    "editable": false,
    "tags": []
   },
   "source": [
    "Be sure to save your current progress!!!\n",
    "\n",
    "Then run this cell. It'll fix your git repo history so you can successfully merge in updates"
   ]
  },
  {
   "cell_type": "code",
   "execution_count": null,
   "metadata": {
    "deletable": false,
    "tags": []
   },
   "outputs": [],
   "source": [
    "!./fix-repo\n",
    "!./pull-updates"
   ]
  },
  {
   "cell_type": "markdown",
   "metadata": {
    "deletable": false,
    "editable": false,
    "tags": []
   },
   "source": [
    "Then, reload this page in your browser."
   ]
  },
  {
   "cell_type": "markdown",
   "metadata": {
    "deletable": false,
    "editable": false,
    "tags": []
   },
   "source": [
    "## How To Use This Document\n",
    "\n",
    "You will use Jupyter Notebook to complete this lab.  You should be able to do much of this lab without leaving Jupyter Notebook.  The main exception will be some of the programming labs.  The instructions will make it clear when you should use the terminal.\n",
    "\n",
    "### Running Code\n",
    "\n",
    "Jupyter Notebooks are made up of \"cells\".  Some have Markdown-formatted text in them (like this one).  Some have Python code (like the one below).\n",
    "\n",
    "For code cells, you press `shift-return` to execute the code.  Try it below:"
   ]
  },
  {
   "cell_type": "code",
   "execution_count": null,
   "metadata": {
    "deletable": false,
    "editable": false,
    "tags": []
   },
   "outputs": [],
   "source": [
    "print(\"I'm in python\")"
   ]
  },
  {
   "cell_type": "markdown",
   "metadata": {
    "deletable": false,
    "editable": false,
    "tags": []
   },
   "source": [
    "Code cells can also execute shell commands using the `!` operator.  Try it below:"
   ]
  },
  {
   "cell_type": "code",
   "execution_count": null,
   "metadata": {
    "deletable": false,
    "editable": false,
    "tags": []
   },
   "outputs": [],
   "source": [
    "!echo \"I'm in a shell\""
   ]
  },
  {
   "attachments": {
    "image.png": {
     "image/png": "[encoded data removed]"
    }
   },
   "cell_type": "markdown",
   "metadata": {
    "deletable": false,
    "editable": false,
    "tags": []
   },
   "source": [
    "### Telling What The Notebook is Doing\n",
    "\n",
    "The notebook will only run one cell at a time, so if you press `shift-return` several times, the cells will wait for one another.  You can tell that a cell is waiting if it there's a `*` in the `[]` to the left the cell:\n",
    "\n",
    "![image.png](attachment:image.png)\n"
   ]
  },
  {
   "attachments": {
    "image.png": {
     "image/png": "[encoded data removed]"
    }
   },
   "cell_type": "markdown",
   "metadata": {
    "deletable": false,
    "editable": false,
    "tags": []
   },
   "source": [
    "You'll can also tell _where_ the notebook is executing by looking at the table of contents on the left.  The section with the currently-executing cell will be red:\n",
    "\n",
    "![image.png](attachment:image.png)"
   ]
  },
  {
   "attachments": {
    "image.png": {
     "image/png": "[encoded data removed]"
    }
   },
   "cell_type": "markdown",
   "metadata": {
    "deletable": false,
    "editable": false,
    "tags": []
   },
   "source": [
    "### What to Do Jupyter Notebook It Gets Stuck\n",
    "\n",
    "First, check if it's actually stuck: Some of the cells take a while, but they will usually provide some visual sign of progress.  If _nothing_ is happening for more than 10 seconds, it's probably stuck.\n",
    "\n",
    "To get it unstuck, you stop execution of the current cell with the \"interrupt button\":\n",
    "\n",
    "![image.png](attachment:image.png)"
   ]
  },
  {
   "attachments": {
    "image.png": {
     "image/png": "[encoded data removed]"
    }
   },
   "cell_type": "markdown",
   "metadata": {
    "deletable": false,
    "editable": false,
    "tags": []
   },
   "source": [
    "You can also restart the underlying python instance (i.e., the confusingly-named \"kernel\" which is not the same thing as the operating system kernel) with the restart button:\n",
    "\n",
    "![image.png](attachment:image.png)\n",
    "\n",
    "Once you do this, all the variables defined by earlier cells are gone, so you may get some errors.  You may need to re-run the cells in the current section to get things to work again.\n",
    "\n",
    "You can also try reloading the web page.  That will leave Python kernel intact, but it can help with some problems."
   ]
  },
  {
   "cell_type": "markdown",
   "metadata": {
    "deletable": false,
    "editable": false,
    "tags": []
   },
   "source": [
    "### Common Errors and Non-Errors\n",
    "\n",
    "1.  If you get `sh: 0: getcwd() failed: no such file or directory`, restart the kernel.\n",
    "2.  If you get `INFO:MainThread:numexpr.utils:Note: NumExpr detected 40 cores but \"NUMEXPR_MAX_THREADS\" not set, so enforcing safe limit of 8.`.  It's not a real error.  Ignore it. \n",
    "3.  Sometimes `cse142 job run` will just sit there and seemingly do nothing.  Weirdly, interrupting the kernel (button above) seems to jolt it awake and cause it to continue.\n",
    "4. If you get errors similar to `NameError: name 'render_csv' is not defined`, please re-execute the very beginning cell of this document."
   ]
  },
  {
   "cell_type": "markdown",
   "metadata": {
    "deletable": false,
    "editable": false,
    "tags": []
   },
   "source": [
    "### The Embedded Code\n",
    "\n",
    "The code embedded in the lab falls into two categories:\n",
    "\n",
    "1.  Code you need to edit and understand.\n",
    "2.  Code that you do not need to edit or understand -- it's just there to display something for you.\n",
    "\n",
    "For code in the first category, the lab will make it clear that you need to study, modify, and/or run the code.  If we don't explicitly ask you to do something, you don't need to.\n",
    "\n",
    "Most of the code in the second category is for drawing graphs.  You can just run it with shift-return to the see the results.  If you are curious, it's mostly written with `Pandas` and `matplotlib`. The code is all in `notebook.py`.   These cells should be un-editable.  However, if you want to experiment with them, you can copy _the contents_ of the cell into a new cell and do whatever you want (If you copy the cell, the copy will also be uneditable).\n",
    "\n",
    "<div class=\"alert alert-block alert-info\">\n",
    "\n",
    "**Most Cells are Immutable** Many of the cells of this notebook are uneditable. The only ones you should edit are some of the code cells and the text cells with questions in them.\n",
    "</div>"
   ]
  },
  {
   "cell_type": "markdown",
   "metadata": {
    "deletable": false,
    "editable": false,
    "tags": []
   },
   "source": [
    "### Answering Questions\n",
    "\n",
    "Throughout this document, you'll see some questions (like the one below).  You can double click on them to edit them and fill in your answer.  Try not to mess up the formatting (so it's easy for us to grade), but at least make sure your answer shows up clearly.  When you are done editing, you can `shift-return` to make it pretty again.\n",
    "\n",
    "A few tips, pointers, and caveats for answering questions:\n",
    "\n",
    "1. The answers are all in [github-flavored markdown](https://guides.github.com/features/mastering-markdown/) with some html sprinkled in.  Leave the html alone.\n",
    "2. Many answers require you to fill in a table, and many of the `|` characters will be missing.  You'll need to add them back.\n",
    "3. The HTML needs to start at the beginning of a line.  If there are spaces before a tag, it won't render properly.  If you accidentally add white space at the beginning of a line with an html tag on it, you'll need to fix it.\n",
    "4. Text answers also need to start at the beginning of a line, otherwise they will be rendered as code.\n",
    "5. Press `shift-return` or `option-return` to render the cell and make sure it looks good.\n",
    "6. There needs to be a blank line between html tags and markdown.  Otherwise, the markdown formatting will not appear correctly.\n",
    "\n",
    "\n",
    "You'll notice that there are three kinds of questions: \"Correctness\", \"Completeness\", and \"Optional\".  You need to provide an answer to the \"Completeness\" questions, but you won't be graded on its correctness.  You'll need to answer \"Correctness\" questions correctly to get credit.  The \"Optional\" questions are optional."
   ]
  },
  {
   "cell_type": "markdown",
   "metadata": {
    "deletable": false,
    "editable": false,
    "tags": []
   },
   "source": [
    "## Grading\n",
    "\n",
    "Your grade for this lab will be based on the following components\n",
    "\n",
    "| Part                       | value |\n",
    "|----------------------------|-------|\n",
    "| Jupyter Notebook           | 50%   |\n",
    "| Programming Lab     | 48%   |\n",
    "| Post-lab survey.           | 2%    |\n",
    "\n",
    "No late work or extensions will be allowed.\n",
    "\n",
    "We will grade 5 of the \"completeness\" problems.  We will grade all of the \"correctness\" questions.\n",
    "\n",
    "You'll follow the directions at the end of the lab to submit the lab write up and the programming lab through gradescope. \n",
    "\n",
    "Please check gradescope for exact due dates."
   ]
  },
  {
   "cell_type": "markdown",
   "metadata": {
    "deletable": false,
    "editable": false,
    "tags": []
   },
   "source": [
    "# Meeting Our Processor Again$^2$\n",
    "In this lab, we continue using our Intel Core i3 12100F processor. Now, we will dive more into this processor and connect the processor with what you've learn in class.\n",
    "\n",
    "Intel Core i3 12100F using Intel's Alder Lake architecture. You may find more detail about this processor architecture from the following paper [Intel Alder Lake CPU Architectures](https://ieeexplore.ieee.org/document/9747991)."
   ]
  },
  {
   "cell_type": "code",
   "execution_count": null,
   "metadata": {
    "cse142.is_response": true,
    "deletable": false,
    "tags": []
   },
   "outputs": [],
   "source": [
    "! cse142 job run 'lscpu'"
   ]
  },
  {
   "cell_type": "markdown",
   "metadata": {
    "deletable": false,
    "editable": false,
    "tags": []
   },
   "source": [
    "Since Alder Lake is an x86 processor, you're strongly encourage to review x86 assembly before starting the rest of the lab. You may find [this link](https://www.cs.virginia.edu/~evans/cs216/guides/x86.html) useful "
   ]
  },
  {
   "cell_type": "markdown",
   "metadata": {
    "deletable": false,
    "editable": false,
    "tags": []
   },
   "source": [
    "# From C/C++ to instructions\n",
    "\n",
    "To understand how the processor would handle a program, we unfortunately cannot avoid the connection between \"human-readable\" programming language and \"machine\" instructions. This section will give you some ideas regarding how your C/C++ code becomes machine instructions and some basic ideas about compiler optimizations. We created a tool that can build the program and show the compiled instructions. In the following cell, we demonstrate using this tool to compile a C++ \"Hello, World!\\n\" program and its compiled x86 instructions with optimization flag `-O1`."
   ]
  },
  {
   "cell_type": "code",
   "execution_count": null,
   "metadata": {
    "deletable": false,
    "editable": false,
    "tags": []
   },
   "outputs": [],
   "source": [
    "exe = build(code(r\"\"\"\n",
    "\n",
    "#include<iostream>\n",
    "int main(int argc, char * argv[]) {\n",
    "    std::cout << \"hello world!\\n\";\n",
    "    return 0;\n",
    "\n",
    "}\"\"\"),build_parameters=arg_map(OPTIMIZE=\"-O1\"))[0]\n",
    "\n",
    "exe.asm(\"main\")"
   ]
  },
  {
   "cell_type": "markdown",
   "metadata": {
    "editable": false
   },
   "source": [
    "## Control Flow Graphs"
   ]
  },
  {
   "cell_type": "markdown",
   "metadata": {
    "deletable": false,
    "editable": false,
    "tags": []
   },
   "source": [
    "To facilitate the understanding of compiled code and the program behavior, we are going to introduce some methods of code analysis. The first one is Control flow graphs (CFGs). \n",
    "\n",
    "CFGs are a common way to visually inspect the structure of _one function_ in a program.  A CFG is a collection of nodes and edges.  Each node is a _basic blocks_ -- a sequence of instructions that always execute together.  This means that a basic block ends with either 1) a branch, 2) a jump, or 3) the target of a branch or jump.  The edges in the CFG are possible _control transfers_ between basic blocks.  So, the CFG shows all possible paths of control flow through the function.\n",
    "\n",
    "Take a look at this code then run the cell to see it's CFG:"
   ]
  },
  {
   "cell_type": "code",
   "execution_count": null,
   "metadata": {
    "deletable": false,
    "editable": false,
    "tags": []
   },
   "outputs": [],
   "source": [
    "if_ex = build(code(r\"\"\"\n",
    "\n",
    "#include<cstdint>\n",
    "#include<cstdlib>\n",
    "\n",
    "extern \"C\" \n",
    "uint64_t * if_ex(uint64_t * array,\n",
    "\t\t unsigned long int size) {\n",
    "\tif (size/2) {\n",
    "\t\treturn NULL;\n",
    "\t} else {\n",
    "\t\treturn array;\n",
    "\t}\n",
    "}\n",
    "\n",
    "\"\"\"),build_parameters=arg_map(OPTIMIZE=\"-O0 -g\"))\n",
    "\n",
    "compare([if_ex[0].source(\"if_ex\"),if_ex[0].asm(\"if_ex\"),if_ex[0].cfg(\"if_ex\")])"
   ]
  },
  {
   "cell_type": "markdown",
   "metadata": {
    "deletable": false,
    "editable": false,
    "tags": []
   },
   "source": [
    "The CFG shows that there are two paths through the function depending on the value of the `if` condition.  So there are two paths along which _control_ can _flow_.  The green and red lines correspond to the taken and not-taken outcomes of the branch at the end of the top block.\n",
    "\n",
    "Here's a more complex piece of code. Study it and then run the code cell below.\n"
   ]
  },
  {
   "cell_type": "code",
   "execution_count": null,
   "metadata": {
    "deletable": false,
    "editable": false,
    "tags": []
   },
   "outputs": [],
   "source": [
    "loop_if = build(code(r\"\"\"\n",
    "\n",
    "#include<cstdint>\n",
    "#include<cstdlib>\n",
    "\n",
    "extern \"C\" \n",
    "uint64_t * loop_if(uint64_t * array,\n",
    "\t\t   unsigned long int size) {\n",
    "\tuint64_t* t= NULL;\n",
    "\tint k = 0;\n",
    "\tfor(uint i = 0; i < size; i++) {\n",
    "\t\tif (i-size != 0) {\n",
    "\t\t\tk = 4;   //  L1\n",
    "\t\t} else if (i+size != 0) { // L2\n",
    "\t\t\tk = 5;\n",
    "\t\t}\n",
    "\t}\n",
    "\treturn t + k; // L3\n",
    "\t\n",
    "}\n",
    "\n",
    "\n",
    "int main() {\n",
    "}\n",
    "\n",
    "\"\"\"),build_parameters=arg_map(OPTIMIZE=\"-O0 -g\"))\n",
    "\n",
    "compare([loop_if[0].asm(\"loop_if\"), loop_if[0].cfg(\"loop_if\")])"
   ]
  },
  {
   "cell_type": "markdown",
   "metadata": {
    "deletable": false,
    "editable": false,
    "tags": []
   },
   "source": [
    "## Looking At Assembly"
   ]
  },
  {
   "cell_type": "markdown",
   "metadata": {
    "deletable": false,
    "editable": false,
    "tags": []
   },
   "source": [
    "CFGs is a good tool of looking at the high-level structure and behavior of programs, but we also need to understand what's going on at a finer level:  Inside the basic blocks.  To do that, we'll have to look at the assembly language that the compiler generates.\n",
    "\n",
    "The lectures in 142 provided an overview of the x86 assembly and our main goal in both courses is that you be able to look at some x86 assembly and (with the help of google) get _some idea_ of what is going on.\n",
    "\n",
    "<div class=\"alert alert-block alert-danger\">\n",
    "\n",
    "**Use the Slides, Luke! (and google!):** This lab doesn't contain everything you need to know about x86 assembly.  Please look the [handout](http://www.cs.cmu.edu/~fp/courses/15213-s06/misc/asm64-handout.pdf).  Google is a good resource as well:  Searching for \"x86 _inst name_ \" will get your information about any instruction.\n",
    "</div>"
   ]
  },
  {
   "cell_type": "markdown",
   "metadata": {
    "deletable": false,
    "editable": false,
    "tags": []
   },
   "source": [
    "### The Basics"
   ]
  },
  {
   "cell_type": "markdown",
   "metadata": {
    "deletable": false,
    "editable": false,
    "tags": []
   },
   "source": [
    "We'll start simple by revisiting the `if_ex()` function we saw earlier (run the cell):"
   ]
  },
  {
   "cell_type": "code",
   "execution_count": null,
   "metadata": {
    "deletable": false,
    "editable": false,
    "tags": []
   },
   "outputs": [],
   "source": [
    "exe = build(code(r\"\"\"\n",
    "#include<cstdint>\n",
    "#include<cstdlib>\n",
    "\n",
    "extern \"C\" \n",
    "uint64_t * if_ex(uint64_t * array,\n",
    "\t\t unsigned long int size) {\n",
    "\tif (size == 0) {\n",
    "\t\treturn NULL;\n",
    "\t}\n",
    "\treturn array;\n",
    "}\n",
    "\n",
    "int main() {\n",
    "}\n",
    "\"\"\"),build_parameters=arg_map(OPTIMIZE=\"-O0 -g\"))\n",
    "\n",
    "compare([if_ex[0].source(\"if_ex\"),if_ex[0].asm(\"if_ex\"),if_ex[0].cfg(\"if_ex\")])"
   ]
  },
  {
   "cell_type": "markdown",
   "metadata": {
    "deletable": false,
    "editable": false,
    "tags": []
   },
   "source": [
    "Take some time to study the source code (top left) and assembly output (top right) and how it corresponds to the CFG annotated with the assembly (bottom).\n",
    "\n",
    "A few things to note:\n",
    "\n",
    "1.  Comments in assembly start with `;`\n",
    "2.  Things like `.L3:` that end in `:` are labels in the assembly and can be used as the \"targets\" of branches.  Some of them (e.g., `if_ex:`) mark the beginnings of functions.\n",
    "3.  Other things like `.cfi_endproc` are assemble directives.  They provide metadata about the instruction, functions, and symbols.  They don't affect execution.  We will mostly ignore them.\n",
    "\n",
    "Finally, note how the assembly in the CFG is different than the assembly from the compiler. \n",
    "\n",
    "The assembly on the right is the actual x86 assembly that the compiler generated.  The code in the CFG is equivalent, but it's not x86 assembly.  We'll call it _pseudo-assembly_.  It was generated by a _disassembler_ from the compiled binary.  There's a one-to-one correspondence between the assembly and the pseudo-assembly but there are some important differences:\n",
    "\n",
    "1.  The targets from branch and jump instructions are raw addresses in the pseudo-assembly rather than labels.\n",
    "2.  The pseudo-assembly provides some information about argument types in comments (e.g., `; var int64_t var_10h @ rbp-0x10`) and then uses `var_10h` in the pseudoassembly.  \n",
    "\n",
    "Why does the CFG contain pseudo-assembly instead of the actual assembly? -- Because that's what the CFG drawing tool provides.  (As an aside, the tool we use to draw the CFGs is called [Redare2](https://rada.re/n/) and it's a really powerful reverse engineering tool.  It's really cool, but it has a really terrible interface).\n",
    "\n",
    "You should also be able to spot the boundaries between the basic blocks in the assembly and see how the CFG makes them explicit.  You can see that the instruction at the start of each basic block is either\n",
    "\n",
    "1. A branch target (I.e., a label that a branch might jump to), or\n",
    "2. The instruction right after a branch.\n",
    "\n",
    "The last instruction in each basic block is either:\n",
    "\n",
    "1.  The instruction before a branch target (i.e.,  label), or\n",
    "2.  A branch, jump, or return instruction.\n",
    "\n",
    "If the last instruction in the block is a branch, then there will be two lines leaving the block -- one green, one red.  The green line is path control will take if the branch is _taken_.  The red line is the branch's _not taken_ path.  Notice how the red (not-taken) path leads to the block that contains `movl $0, %eax` which sets the return value for the function to 0.  This corresponds to the if condition `size == 0` being true.  The compiler is free to use any branch it wants to implement an if condition.  Is this case, it used `jne` (jump on not equal), but it could have used `je` (jump on equal) and reversed the position of the two basic blocks in the assembly.\n"
   ]
  },
  {
   "cell_type": "markdown",
   "metadata": {
    "cse142.is_response": true,
    "cse142.points": 3,
    "cse142.question_type": "completeness",
    "deletable": false,
    "editable": false,
    "solution2": "hidden",
    "solution2_first": true,
    "tags": []
   },
   "source": [
    "<div class=\"alert alert-block alert-success\">\n",
    "<div class=\"question correctness\">\n",
    "\n",
    "### Question 1 (Correctness)\n",
    "\n",
    "<div class=\"question-text\">\n",
    "\n",
    "Fill out the table below to show which nodes in the CFG correspond to the labeled line in the source code:\n",
    "</div>\n",
    "</div>\n",
    "</div>"
   ]
  },
  {
   "cell_type": "markdown",
   "metadata": {
    "cse142.is_response": true,
    "cse142.points": 3,
    "cse142.question_type": "completeness",
    "editable": true,
    "solution2": "hidden",
    "solution2_first": true,
    "tags": []
   },
   "source": [
    "<div class=\"alert alert-block alert-success\">\n",
    "<div class=\"answer\">\n",
    "Answer:\n",
    "\n",
    "| Line | Basic Block Start with Lable: | \n",
    "|------|------|\n",
    "| L1   |      |\n",
    "| L2   |      |\n",
    "| L3   |      |\n",
    "    \n",
    "</div>\n",
    "</div>"
   ]
  },
  {
   "cell_type": "markdown",
   "metadata": {
    "cse142L.is_response": true,
    "cse142L.points": 1,
    "cse142L.question_type": "completeness",
    "deletable": false,
    "editable": false,
    "tags": []
   },
   "source": [
    "<div class=\"alert alert-block alert-success\">\n",
    "<div class=\"question completeness\">\n",
    "\n",
    "### Question 2 (Completeness)    \n",
    "\n",
    "<div class=\"question-text\"> \n",
    "    \n",
    "How does the variable `size` appear in the assembly and the pseudo-assembly?  That is, how can we tell that an instruction is operating on the value stored in `size`?\n",
    "    \n",
    "1. What does `size` look like in x86 assembly: \n",
    "2. What does `size` look like in pseudo-assembly: \n",
    "3. That is, how can we tell that an instruction is operating on the value store in `size`?  \n",
    "</div>\n",
    "</div>\n",
    "</div>"
   ]
  },
  {
   "cell_type": "markdown",
   "metadata": {
    "cse142L.is_response": true,
    "cse142L.points": 1,
    "cse142L.question_type": "completeness"
   },
   "source": [
    "<div class=\"alert alert-block alert-success\">\n",
    "<div class=\"answer\">\n",
    "Answer:\n",
    "\n",
    "1. What does `size` look like in x86 assembly: \n",
    "2. What does `size` look like in pseudo-assembly: \n",
    "3. That is, how can we tell that an instruction is operating on the value store in `size`?  \n",
    "    \n",
    "</div>    \n",
    "</div>\n",
    "</div>"
   ]
  },
  {
   "cell_type": "markdown",
   "metadata": {
    "deletable": false,
    "editable": false,
    "tags": []
   },
   "source": [
    "### A More Complex Example\n",
    "\n",
    "Here's the assembly for `loop_if()`.  Run the cell."
   ]
  },
  {
   "cell_type": "code",
   "execution_count": null,
   "metadata": {
    "deletable": false,
    "editable": false,
    "tags": []
   },
   "outputs": [],
   "source": [
    "loop_if = build(code(r\"\"\"\n",
    "#include<cstdint>\n",
    "#include<cstdlib>\n",
    "\n",
    "extern \"C\" \n",
    "uint64_t * loop_if(uint64_t * array,\n",
    "\t\t   unsigned long int size) {\n",
    "\tuint64_t* t= NULL;\n",
    "\tint k = 0;\n",
    "\tfor(uint i = 0; i < size; i++) {\n",
    "\t\tif (i  + size != 0) { //  L1\n",
    "\t\t\tk = 4; \n",
    "\t\t} else if (i+size != 0) { // L2\n",
    "\t\t\tk = 5;\n",
    "\t\t}\n",
    "\t}\n",
    "\treturn t + k; // L3\n",
    "\t\n",
    "}\n",
    "\n",
    "\n",
    "int main() {\n",
    "}\n",
    "\"\"\"),build_parameters=arg_map(OPTIMIZE=\"-O0 -g\"))\n",
    "\n",
    "compare([loop_if[0].source(\"loop_if\"),loop_if[0].asm(\"loop_if\"), loop_if[0].cfg(\"loop_if\")])"
   ]
  },
  {
   "cell_type": "markdown",
   "metadata": {
    "cse142L.is_response": true,
    "cse142L.points": 2,
    "cse142L.question_type": "correctness",
    "deletable": false,
    "editable": false,
    "tags": []
   },
   "source": [
    "<div class=\"alert alert-block alert-success\">\n",
    "\n",
    "<div class=\"question correctness points-2\">\n",
    "\n",
    "### Question 3 (Correctness)   \n",
    "    \n",
    "<div class=\"question-text\">\n",
    "\n",
    "What instruction implements these parts of the `loop_if()` (just copy and paste it from the assembly and don't be afraid to google.)?\n",
    "\n",
    "|    |  Instruction|\n",
    "|------|------|\n",
    "| The add on line `L1` |  \n",
    "| The comparison to zero on line `L2` | \n",
    "\n",
    "</div>\n",
    "</div>    \n",
    "</div>     "
   ]
  },
  {
   "cell_type": "markdown",
   "metadata": {
    "cse142L.is_response": true,
    "cse142L.points": 2,
    "cse142L.question_type": "correctness"
   },
   "source": [
    "<div class=\"alert alert-block alert-success\">       \n",
    "<div class=\"answer\">\n",
    "\n",
    "|    |  Instruction|\n",
    "|------|------|\n",
    "| The add on line `L1` |  \n",
    "| The comparison to zero on line `L2` | \n",
    "    \n",
    "</div>    \n",
    "</div>    "
   ]
  },
  {
   "cell_type": "markdown",
   "metadata": {
    "deletable": false,
    "editable": false,
    "tags": []
   },
   "source": [
    "### Counting Instructions With the CFG\n",
    "\n",
    "In the next section you will study how compiler optimizations change which instructions execute.  Let's see what we can learn about which instructions execute by looking at the assembly."
   ]
  },
  {
   "cell_type": "code",
   "execution_count": null,
   "metadata": {
    "deletable": false,
    "editable": false,
    "tags": []
   },
   "outputs": [],
   "source": [
    "loop_func = build(code(r\"\"\"\n",
    "#include<cstdint>\n",
    "#include<cstdlib>\n",
    "\n",
    "extern \"C\" \n",
    "uint64_t * loop_func(uint64_t * array,\n",
    "\t\t      unsigned long int size) {\n",
    "\n",
    "\tuint64_t s = 0;\n",
    "\tfor(uint i = 0; i < 10; i++) {\n",
    "\t\ts += array[i];\n",
    "\t}\n",
    "\treturn &array[s];\n",
    "\t\n",
    "}\n",
    "\n",
    "\n",
    "int main() {\n",
    "}\n",
    "\"\"\"),build_parameters=arg_map(OPTIMIZE=\"-O0 -g\"))\n",
    "\n",
    "compare([loop_func[0].source(\"loop_func\"),loop_func[0].asm(\"loop_func\"), loop_func[0].cfg(\"loop_func\")])"
   ]
  },
  {
   "cell_type": "markdown",
   "metadata": {
    "deletable": false,
    "editable": false,
    "tags": []
   },
   "source": [
    "We are primarily interested in two things:\n",
    "\n",
    "1.  How many dynamic instructions execute _in total_ (that's just `IC` from the performance equation).\n",
    "2.  How many dynamic instructions access memory.\n",
    "\n",
    "Counting instructions is simple:  You can count up the number of instructions in each basic block and multiply it by the number of times the basic block executes.\n",
    "\n",
    "Determining which instructions access memory is also pretty simple except for one wrinkle.\n",
    "\n",
    "The basic rules are that:\n",
    "\n",
    "1.  In x86 assembly, if the instruction uses an addressing mode with parentheses (e.g., `-8(%rbp)` or `(%rax)`) then it accesses memory.\n",
    "2.  In pseudo-assembly, operands like `[var_8h]` or `[rax*8]` are _also_ memory accesses.\n",
    "3.  `push` and `pop` instructions are memory accesses.\n",
    "\n",
    "The exception is the `lea` family of instructions (`leaq`, `leal`, etc.). These are \"load effective address\" and they just compute the address and store the _address_ into into the destination register.  So when you count memory accesses you should ignore `lea*` instructions.\n",
    "\n",
    "Simple, right!  :-)\n",
    "\n",
    "For this question, recall that \"dynamic instructions\" is the number of instructions that the processor executes and \"static instructions\" is the number of instructions the compiler generates."
   ]
  },
  {
   "cell_type": "markdown",
   "metadata": {
    "cse142L.is_response": true,
    "cse142L.points": 1,
    "cse142L.question_type": "completeness",
    "deletable": false,
    "editable": false,
    "tags": []
   },
   "source": [
    "<div class=\"alert alert-block alert-success\">\n",
    "\n",
    "<div class=\"question completeness\">\n",
    "\n",
    "### Question 4 (Completeness)    \n",
    "\n",
    "<div class=\"question-text\">\n",
    "    \n",
    "Fill in the table below to compute how many total instructions and how many memory accesses occur when `loop_func()` executes (Hint:  It is not necessary to trace through exactly what each instruction does.  Instead think about how control will flow through the CFG and just count how many times each block must execute.  Also don't be afraid to google the instruction names.).\n",
    "    </div>\n",
    "    </div>\n",
    "</div>"
   ]
  },
  {
   "cell_type": "markdown",
   "metadata": {
    "cse142L.is_response": true,
    "cse142L.points": 1,
    "cse142L.question_type": "completeness"
   },
   "source": [
    "<div class=\"alert alert-block alert-success\">\n",
    "<div class=\"answer\">\n",
    "\n",
    "| basic block | # of times the block executes | static instruction count | static memory instruction count |  dynamic instruction count | dynamic memory instruction count | \n",
    "|-------------|-----------------|-------------------|--------------------------|-------------------|--------------------------|\n",
    "| n0          |  \n",
    "| n1          |   \n",
    "| n2          |   \n",
    "| n3          |   \n",
    "|                 |                ||   **Total**    \n",
    "    \n",
    "</div>\n",
    "</div>"
   ]
  },
  {
   "cell_type": "markdown",
   "metadata": {
    "deletable": false,
    "editable": false,
    "tags": []
   },
   "source": [
    "# The Perils of C++"
   ]
  },
  {
   "cell_type": "markdown",
   "metadata": {
    "deletable": false,
    "editable": false,
    "tags": []
   },
   "source": [
    "C++ is a big, complex mess of a language that includes a bunch of powerful tools that make it possible to write fast code without too much pain.  However, all that power translates into a lot of complexity that shows up in the assembly code generated for C++ programs.  \n",
    "In order to read C++ assembly output, you need to understand a few details about one aspect of this implementation process: linking.\n",
    "\n",
    "## What Is Linking?\n",
    "\n",
    "Linking is the final step in compiling a program.  Non-trivial programs are spread across multiple source files that are compiled one-at-a-time into _object files_ (`.o`) that contain binary instructions and static data (e.g., string constants from your code).  Each function and global variable in the object file has a name called a _symbol_.  We say that the object file _defines_ the symbols it contains.  For instance, if `foo.cpp` contains the source code for a function `bar()` then, `foo.o` will define the symbol `bar`.\n",
    "\n",
    "The code in the object files will also _reference_ symbols defined in other object files.  For instance, if another file, `baz.cpp`, calls `bar`, then `baz.o` will have reference to `bar`.  Prior to linking, that reference is _undefined_.\n",
    "\n",
    "The linker takes all the `.o` files and copies their contents into a single executable file.  As it copies them it _resolves_ the undefined references.  In \n",
    "this example, the linker resolves the undefined reference in `bar.o`  by replacing the reference with pointer to the code for `bar()` in  `foo.o`.\n",
    "\n",
    "One important thing about linkers is that they are language-agnostic -- the linker will happy link object file generated from C++, C, Go, or Rust as long as the symbols match.\n",
    "\n",
    "There's a lot more to [linking](https://www.amazon.com/Linkers-Kaufmann-Software-Engineering-Programming/dp/1558604960), but this is enough to see what's problematic about C++.\n",
    "\n",
    "## C++ Name Mangling\n",
    "\n",
    "The linker restricts what strings can serve as valid symbols: Symbols must start with a letter (or `_`) and only contain letters, numbers, and `_`.\n",
    "\n",
    "For C, this poses no problems. If you declare a function `bar` in file `foo.c`:\n",
    "\n",
    "``` c++\n",
    "int bar(int a) {\n",
    "    return 1;\n",
    "}\n",
    "```\n",
    "\n",
    "The compiler will generate exactly one symbol with the name `bar`.   Then you can call it from another file `baz.c`:\n",
    "\n",
    "```  c++\n",
    "main() {\n",
    "     bar(4);\n",
    "} \n",
    "```\n",
    "\n",
    "and the linker will know what function you mean (i.e., the function named `bar` from `foo.c`).\n",
    "\n",
    "However, C++ allows function overloading, so we might have this in `foo.cpp`:\n",
    "\n",
    "``` c++\n",
    "int bar(int a) {\n",
    "}\n",
    "\n",
    "float bar(float a) {\n",
    "}\n",
    "\n",
    "```\n",
    "\n",
    "This will generate two functions, so they need two symbols.  But what symbols should the compiler choose?  The compiler needs a systematic way of naming functions _that includes their type information_.  This will ensure that when we have `baz.cpp` with\n",
    "\n",
    "``` c++\n",
    "main() {\n",
    "    bar(4);\n",
    "    bar(4.0);\n",
    "} \n",
    "```\n",
    "\n",
    "The linker will know that we mean to call two different functions.\n",
    "\n",
    "Things get more complex with templates, since we could have:\n",
    "\n",
    "``` c++\n",
    "int bar(const std::map<std::string, std::vector<int>> & a) {\n",
    "}\n",
    "```\n",
    "\n",
    "That's a lot of information to pack into one symbol!\n",
    "\n",
    "The solution that C++ compilers have adopted is called _name mangling_.  Name mangling is a deterministic, standardized way to convert _any_  function type and type into a unique symbol.\n",
    "\n",
    "Let's see what it does.  Run the fiddle and answer the question:"
   ]
  },
  {
   "cell_type": "code",
   "execution_count": null,
   "metadata": {
    "cse142L.is_response": true,
    "deletable": false,
    "editable": false,
    "tags": []
   },
   "outputs": [],
   "source": [
    "mangle = build(code(r\"\"\"\n",
    "#include<map>\n",
    "#include<vector>\n",
    "#include<string>\n",
    "int foo(int a) {\n",
    "    return 0;\n",
    "}\n",
    "\n",
    "float foo(float a) {\n",
    "    return 0;\n",
    "}\n",
    "\n",
    "int foo(const std::map<std::string, std::vector<int>> & a) {\n",
    "    return 0;\n",
    "}\n",
    "\n",
    "int main(){}\n",
    "\"\"\"),build_parameters=arg_map(OPTIMIZE=\"-O0\"))\n",
    "\n",
    "compare([mangle[0].source(),mangle[0].asm(demangle=False)])"
   ]
  },
  {
   "cell_type": "markdown",
   "metadata": {
    "cse142L.is_response": true,
    "cse142L.points": 1,
    "cse142L.question_type": "completeness",
    "deletable": false,
    "editable": false,
    "tags": []
   },
   "source": [
    "<div class=\"alert alert-block alert-success\">\n",
    "\n",
    "<div class=\"question completeness\">\n",
    "\n",
    "### Question 5 (Completeness)\n",
    "\n",
    "<div class=\"question-text\"> What's the mangled name for each of these functions?</div>\n",
    "</div> \n",
    "</div>"
   ]
  },
  {
   "cell_type": "markdown",
   "metadata": {
    "cse142L.is_response": true,
    "cse142L.points": 1,
    "cse142L.question_type": "completeness"
   },
   "source": [
    "<div class=\"alert alert-block alert-success\">\n",
    "<div class=\"answer\">\n",
    "    \n",
    "| function | mangled name |\n",
    "|----------|--------------|\n",
    "| `int foo(int a)` | | \n",
    "| `float foo(float a)` |  | \n",
    "| `int foo(const std::map<std::string, std::vector<int>> & a)`| |\n",
    "\n",
    "    \n",
    "</div>\n",
    "\n",
    "</div>"
   ]
  },
  {
   "cell_type": "markdown",
   "metadata": {
    "deletable": false,
    "editable": false,
    "tags": []
   },
   "source": [
    "As you can see, mangled names make assembly pretty hard to read. To make matters worse, mangled names show up in other places as well (e.g.,  the output of profiling tools)."
   ]
  },
  {
   "cell_type": "markdown",
   "metadata": {
    "deletable": false,
    "editable": false,
    "tags": []
   },
   "source": [
    "You'll notice that the full name for `int foo(const std::map<std::string, std::vector<int>> & a)` is very long.  This is because it includes full type names (including the C++ namespace) and all the default template parameters.\n",
    "\n",
    "## C vs C++ Linkage\n",
    "\n",
    "The way that the compiler generate symbols for a function is called the function's _linkage_.  We've seen two kinds:  C linkage which just uses the function name  and C++ linkage which uses mangled names.\n",
    "\n",
    "You might have noticed that some of the code examples have `extern \"C\"` before some functions.  This is a way of telling the compiler that it should use C linkage for those functions (i.e., just use the function names).  You can use it for one function:\n",
    "\n",
    "``` c++\n",
    "extern \"C\" int foo()\n",
    "```\n",
    "\n",
    "or a group of functions:\n",
    "\n",
    "``` c++\n",
    "extern \"C\" {\n",
    "    int foo(){}\n",
    "    int bar(){}\n",
    "}\n",
    "```\n",
    "\n",
    "This is useful if you want to call the function from a language other than C++ (e.g., C).  We will use it in the examples, because it makes it easier to refer to the functions.\n"
   ]
  },
  {
   "cell_type": "markdown",
   "metadata": {
    "deletable": false,
    "editable": false,
    "tags": []
   },
   "source": [
    "# Optimization"
   ]
  },
  {
   "cell_type": "markdown",
   "metadata": {
    "deletable": false,
    "editable": false,
    "tags": []
   },
   "source": [
    "Now, we have all the tools we need to study how  compiler optimizations affect program performance.  In the exercises below, we'll look at some of the most important optimizations that compilers perform and why and how they work.  \n",
    "\n",
    "We have several goals:\n",
    "\n",
    "1.  To provide some intuition about what the compiler can and cannot do, so you can predict when it will need your help and when you should trust it to \"do the right thing\".\n",
    "2.  To see how and why optimization is so important for languages like C++.\n",
    "3.  To gain further insight into how a computation is implemented affects its performance (via the performance equation)."
   ]
  },
  {
   "cell_type": "markdown",
   "metadata": {
    "deletable": false,
    "editable": false,
    "tags": []
   },
   "source": [
    "## Register assignment"
   ]
  },
  {
   "cell_type": "markdown",
   "metadata": {
    "deletable": false,
    "editable": false,
    "tags": []
   },
   "source": [
    "The first and simplest optimization is _register assignment_.  Register assignment takes local variables and intermediate values and stores them in register rather than on the static.  This saves `mov` instructions and memory accesses.  You can see it in action below:"
   ]
  },
  {
   "cell_type": "code",
   "execution_count": null,
   "metadata": {
    "cse142L.is_response": true,
    "deletable": false,
    "editable": false,
    "tags": []
   },
   "outputs": [],
   "source": [
    "reg_assign = build(code(r\"\"\"\n",
    "extern \"C\" int foo(int a, int b){\n",
    "    return a * b;\n",
    "}\n",
    "\n",
    "int main(){\n",
    "    return foo(1, 0);\n",
    "}\n",
    "\"\"\"),build_parameters=arg_map(OPTIMIZE=[\"-O0\", \"-O1\"]))\n",
    "\n",
    "compare([reg_assign[0].asm(\"foo\"),reg_assign[1].asm(\"foo\")],[reg_assign[0].get_build_parameters(), reg_assign[1].get_build_parameters()])"
   ]
  },
  {
   "cell_type": "markdown",
   "metadata": {
    "deletable": false,
    "editable": false,
    "tags": []
   },
   "source": [
    "The code on the left is unoptimized.  The code on the left is optimized.\n",
    "\n",
    "Wow!  The optimized code is much shorter!\n",
    "\n",
    "A few things to notice about the code and to remember about x86 assembly:\n",
    "\n",
    "First, the \"base pointer\" is in `%rbp`.  This is the base of the stack frame for this function call.  Local variables typically live on the stack and are accessed relative to the base pointer.\n",
    "\n",
    "Second, in x86, the first two function arguments are passed in `%edi` and `%esi`.  Return values are stored in `%eax`.\n",
    "\n",
    "Third, in unoptimized code, `a` and `b` are on the stack at locations `-4(%rbp)` and `-8(%rbp)`, respectively.  In fact, the compiler goes through the trouble of storing `%edi` and `%esi` into `-4(%rbp)` and `-8(%rbp)`.  \n",
    "\n",
    "Then it, _immediately_ uses `movl` to load `a` back into the `%eax` before the `imull` instruction loads `b` from the stack, multiplies it by `%eax`, storing the result in `%eax`. \n",
    "\n",
    "The optimized code avoids all that nonsense with the stack.  It just copies `%edi` into `%eax`, and multiplies it by `%esi`, once again leaving the result in `%eax`.\n",
    "\n",
    "<div class=\"alert alert-block alert-info\">\n",
    "\n",
    "**Pro Tip: Identifying unoptimized assembly** Register assignment is one of the most basic optimizations that compilers preform and the difference between the optimized and unoptimized versions is starkly obvious.  This means that you can usually just tell by looking at assembly code whether it was compiled with optimizations enabled: if it has lots of parentheses (on instructions other than `lea`) it's probably not optimized.\n",
    "</div>"
   ]
  },
  {
   "cell_type": "markdown",
   "metadata": {
    "deletable": false,
    "editable": false,
    "tags": []
   },
   "source": [
    "You can also encourage the compiler to put a variable into a register with the `register` keyword.  This is not a good practice in real code since modern compilers do register assignment automatically.  We'll use this trick in some of our examples to highlight the impact of individual optimizations.  "
   ]
  },
  {
   "cell_type": "markdown",
   "metadata": {
    "cse142L.is_response": true,
    "cse142L.points": 1,
    "cse142L.question_type": "completeness",
    "deletable": false,
    "editable": false,
    "tags": []
   },
   "source": [
    "<div class=\"alert alert-block alert-success\">\n",
    "\n",
    "\n",
    "<div class=\"question completeness\">\n",
    "\n",
    "### Question 6 (Completeness)\n",
    "\n",
    "<div class=\"question-text\">\n",
    "\n",
    "Go ahead and try it on the fiddle above by writing `register int a` in the argument list for `foo()`.  What changed?\n",
    "</div>\n",
    "</div>\n",
    "</div>"
   ]
  },
  {
   "cell_type": "markdown",
   "metadata": {
    "cse142L.is_response": true,
    "cse142L.points": 1,
    "cse142L.question_type": "completeness"
   },
   "source": [
    "<div class=\"alert alert-block alert-success\">\n",
    "<div class=\"answer\">\n",
    "Answer:    \n",
    "\n",
    "    \n",
    "</div>\n",
    "    \n",
    "</div>"
   ]
  },
  {
   "cell_type": "markdown",
   "metadata": {
    "deletable": false,
    "editable": false,
    "tags": []
   },
   "source": [
    "## Common sub-expression elimination"
   ]
  },
  {
   "cell_type": "markdown",
   "metadata": {
    "deletable": false,
    "editable": false,
    "tags": []
   },
   "source": [
    "A _common sub-expression_ is a piece of repeated computation in a program.  Since calculating the same thing twice is a waste of time, the compiler will eliminate the second instance and reuse the result of the first.  Here's an example:"
   ]
  },
  {
   "cell_type": "code",
   "execution_count": null,
   "metadata": {
    "cse142L.is_response": true,
    "deletable": false,
    "editable": false,
    "tags": []
   },
   "outputs": [],
   "source": [
    "CSE = build(code(r\"\"\"\n",
    "extern \"C\" int foo(register int a, register int b){\n",
    "   register int c = a * b;\n",
    "   return a * b + c;\n",
    "}\n",
    "\n",
    "int main(){\n",
    "    return foo(1, 0);\n",
    "}\n",
    "\"\"\"),build_parameters=arg_map(OPTIMIZE=[\"-O0\", \"-O1\"]))\n",
    "\n",
    "compare([CSE[0].source(\"foo\"),CSE[0].asm(\"foo\"),CSE[1].asm(\"foo\")],[\"source\", CSE[0].get_build_parameters(), CSE[1].get_build_parameters()])"
   ]
  },
  {
   "cell_type": "markdown",
   "metadata": {
    "deletable": false,
    "editable": false,
    "tags": []
   },
   "source": [
    "Again, the unoptimized code does some inefficient things.  I encourage you to trace through the assignments/`movl`s (`a` is in `%edi` and `b` is in `%esi`), but the key thing is that it performs two `imull` instructions that compute the same result.\n",
    "\n",
    "The optimized code, just computes the product once and stores it in `%edi`.  Then it use `leal` to add `%rdi` to itself. and store the result in `%eax`.  \n",
    "\n",
    "<div class=\"alert alert-block alert-info\">\n",
    "\n",
    "**Pro Tip; `lea` in action** Recall that `leal` computes the effective address of it's first argument and stores that address in its second argument.  In this case, it uses the `(r1,r2)` addressing mode which adds `r1` and `r2` together to compute the effective address.  Using `leal` in this way is a very common idiom in x86 assembly, because most x86 instructions overwrite one argument.  `lea`, however, does not.\n",
    "    \n",
    "</div>"
   ]
  },
  {
   "cell_type": "markdown",
   "metadata": {
    "deletable": false,
    "editable": false,
    "tags": []
   },
   "source": [
    "It's useful to know what common sub-expressions the compiler can eliminate because it lets you write more natural code.  Consider these two (equivalent) code snippets:\n",
    "\n",
    "```\n",
    "if (k < array[len - 1] ) {\n",
    "   k = array[len - 1];\n",
    "}\n",
    "```\n",
    "and \n",
    "\n",
    "```\n",
    "int t = len - 1;\n",
    "if (k < array[t] ) {\n",
    "   k = array[t];\n",
    "}\n",
    "```\n",
    "\n",
    "In the second, the programmer has effectively performed common sub-expression elimination explicitly leading to longer and (I would argue) less readable code.  \n",
    "\n",
    "A programmer without the benefit of CSE142L might think the longer code is faster, but the savvy alumnus of this class will know they can rely on the compiler to eliminate the extra work automatically."
   ]
  },
  {
   "cell_type": "markdown",
   "metadata": {
    "deletable": false,
    "editable": false,
    "tags": []
   },
   "source": [
    "## Loop invariant code motion"
   ]
  },
  {
   "cell_type": "markdown",
   "metadata": {
    "deletable": false,
    "editable": false,
    "tags": []
   },
   "source": [
    "_Loop invariant code motion_ identifies computations in the body of a loop that don't change from one iteration to the next.  The compiler can _hoist_ that code out of the loop, saving instructions.  For example:"
   ]
  },
  {
   "cell_type": "code",
   "execution_count": null,
   "metadata": {
    "deletable": false,
    "editable": false,
    "tags": []
   },
   "outputs": [],
   "source": [
    "LICM = build(code(r\"\"\"\n",
    "extern \"C\" int foo(register int a, register int b){\n",
    "    register int c = 0;\n",
    "    for(register int i = 0; i < a; i++) {\n",
    "        c += b*a;\n",
    "    }\n",
    "    return c;\n",
    "}\n",
    "\n",
    "int main(){\n",
    "    return foo(1, 0);\n",
    "}\n",
    "\"\"\"),build_parameters=arg_map(OPTIMIZE=[\"-O0\", \"-O1\"]))\n",
    "\n",
    "compare([LICM[0].asm(\"foo\"),LICM[1].asm(\"foo\")],[LICM[0].get_build_parameters(), LICM[1].get_build_parameters()])\n",
    "\n",
    "#display(unopt.source)\n",
    "#compare([unopt.asm, opt.asm], [\"Unoptimized\", \"Optimized (-O1)\"])\n",
    "#compare([unopt.cfg, opt.cfg], [\"Unoptimized\", \"Optimized (-O1)\"])"
   ]
  },
  {
   "cell_type": "markdown",
   "metadata": {
    "deletable": false,
    "editable": false,
    "tags": []
   },
   "source": [
    "Quite a bit changes when we turn on optimizations, but the key thing to notice is that the unoptimized code has an `imull` in the loop body while the optimized code does not.  In the optimized code, the `imull` has been moved into a new basic block called a _loop header_."
   ]
  },
  {
   "cell_type": "markdown",
   "metadata": {
    "deletable": false,
    "editable": false,
    "tags": []
   },
   "source": [
    "## Strength reduction"
   ]
  },
  {
   "cell_type": "markdown",
   "metadata": {
    "deletable": false,
    "editable": false,
    "tags": []
   },
   "source": [
    "In _strength reduction_ the compiler converts a \"stronger\" (i.e., more general and/or slower) operation into a \"weaker\" (i.e. less general and/or faster) operation.  The most common example is converting multiplication and division by powers of two into left and right shifts.\n",
    "\n",
    "For example:"
   ]
  },
  {
   "cell_type": "code",
   "execution_count": null,
   "metadata": {
    "cse142L.is_response": true,
    "deletable": false,
    "editable": false,
    "tags": []
   },
   "outputs": [],
   "source": [
    "SR = build(code(r\"\"\"\n",
    "extern \"C\" int foo(register unsigned int a, register unsigned int b){\n",
    "    return a *8;\n",
    "}\n",
    "\n",
    "int main(){\n",
    "    return foo(1, 0);\n",
    "}\n",
    "\"\"\"),build_parameters=arg_map(OPTIMIZE=[\"-O0\", \"-O1\"]))\n",
    "\n",
    "compare([SR[0].asm(\"foo\"),SR[1].asm(\"foo\")],[SR[0].get_build_parameters(), SR[1].get_build_parameters()])"
   ]
  },
  {
   "cell_type": "markdown",
   "metadata": {
    "deletable": false,
    "editable": false,
    "tags": []
   },
   "source": [
    "We don't even need to look at the optimized code to find strength reduction.  Strength reduction is such a common optimization that the compiler does it even when we tell it not to optimize.  Note that there is no `mull` instruction, but there is a shift arithmetic left long (`sall`) instruction with a constant `$3` that multiplies `%eax` by 8.\n",
    "\n",
    "The optimized code does one better and folds the whole function in one `leal`.  The `n(,%r,k)` addressing mode multiplies register `%r` times `k` and adds it to `n`.  `k` must be power of two, which means that the processor can use a left shift to implement it."
   ]
  },
  {
   "cell_type": "markdown",
   "metadata": {
    "deletable": false,
    "editable": false,
    "tags": []
   },
   "source": [
    "Changing multiplies and divides in to shifts is not the only kind of strength reduction that is possible.  In the fiddle below change the `a*8` to the expressions given in the question below and see what the compiler does:"
   ]
  },
  {
   "cell_type": "code",
   "execution_count": null,
   "metadata": {
    "cse142L.is_response": true,
    "deletable": false,
    "editable": false,
    "tags": []
   },
   "outputs": [],
   "source": [
    "SR2 = build(code(r\"\"\"\n",
    "extern \"C\" int foo(register unsigned int a, register unsigned int b){\n",
    "    return a *8;\n",
    "}\n",
    "int main(){\n",
    "    return foo(1, 0);\n",
    "}\n",
    "\"\"\"),build_parameters=arg_map(OPTIMIZE=[\"-O0\", \"-O1\"]))\n",
    "\n",
    "compare([SR2[0].asm(\"foo\"),SR2[1].asm(\"foo\")],[SR2[0].get_build_parameters(), SR2[1].get_build_parameters()])"
   ]
  },
  {
   "cell_type": "markdown",
   "metadata": {
    "cse142L.is_response": true,
    "cse142L.points": 1,
    "cse142L.question_type": "completeness",
    "deletable": false,
    "editable": false,
    "tags": []
   },
   "source": [
    "<div class=\"alert alert-block alert-success\">\n",
    "\n",
    "\n",
    "<div class=\"question completeness\">\n",
    "\n",
    "### Question 7 (Completeness)    \n",
    "\n",
    "<div class=\"question-text\"> \n",
    "    \n",
    "Try replacing `a*8` with each of the following.  Describe what the compiler does:\n",
    "    \n",
    "</div>\n",
    "</div>\n",
    "</div>"
   ]
  },
  {
   "cell_type": "markdown",
   "metadata": {
    "cse142L.is_response": true,
    "cse142L.points": 1,
    "cse142L.question_type": "completeness"
   },
   "source": [
    "<div class=\"alert alert-block alert-success\">\n",
    "\n",
    "<div class=\"answer\">\n",
    "\n",
    "|        | What the compiler did | \n",
    "|--------|-----------------------|\n",
    "| `a*3`   |  |  \n",
    "| `a*5`|  |\n",
    "| `a*11`|  |\n",
    "| `a/b`| |\n",
    "| `a/3`| |\n",
    "\n",
    "</div>\n",
    "</div>\n",
    "\n",
    "</div>"
   ]
  },
  {
   "cell_type": "markdown",
   "metadata": {
    "deletable": false,
    "editable": false,
    "tags": []
   },
   "source": [
    "## Constant propagation"
   ]
  },
  {
   "cell_type": "markdown",
   "metadata": {
    "deletable": false,
    "editable": false,
    "tags": []
   },
   "source": [
    "_Constant propagation_ allows the compiler to identify the value of constant expressions at compile time and use those constant values to simplify computations.  This effectively executes part of the program _at compile time_ and embeds the result in the assembly.\n",
    "\n",
    "For example:"
   ]
  },
  {
   "cell_type": "code",
   "execution_count": null,
   "metadata": {
    "deletable": false,
    "editable": false,
    "tags": []
   },
   "outputs": [],
   "source": [
    "CP = build(code(r\"\"\"\n",
    "extern \"C\" int foo(register int a, register int b){\n",
    "    register int c = 4;\n",
    "    register int d = 4;\n",
    "    return a + c + d;\n",
    "}\n",
    "\n",
    "int main(){\n",
    "    return foo(1, 0);\n",
    "}\n",
    "\"\"\"),build_parameters=arg_map(OPTIMIZE=[\"-O0\", \"-O1 -fno-inline\"]))\n",
    "\n",
    "compare([CP[0].asm(\"foo\"),CP[1].asm(\"foo\")],[CP[0].get_build_parameters(), CP[1].get_build_parameters()])"
   ]
  },
  {
   "cell_type": "markdown",
   "metadata": {
    "deletable": false,
    "editable": false,
    "tags": []
   },
   "source": [
    "Again, the compiler is doing multiple things at once, but the constant propagation is visible:  In the unoptimized code, it moves `$4` into both `%r12d` and `%ebx` and then adds both those register to `%eax` on the next two lines.  In the optimized code it's folded both `4`s into the `8` in the `leal` instruction.  Here, `leal` is using the `n(%r)` addressing mode which adds a constant `n` to `%r`.  In this case, that enough to implement the entire function.\n",
    "\n",
    "So what happened to variables `c` and `d`?  They are gone!\n",
    "\n",
    "The compiler can make bigger things disappear:"
   ]
  },
  {
   "cell_type": "code",
   "execution_count": null,
   "metadata": {
    "cse142L.is_response": true,
    "deletable": false,
    "editable": false,
    "tags": []
   },
   "outputs": [],
   "source": [
    "CP2 = build(code(r\"\"\"\n",
    "extern \"C\" int foo(register int a, register int b){\n",
    "    register int i, s = 0;\n",
    "    for(i = 0; i < 10; i++) {\n",
    "        s+= i;\n",
    "    }\n",
    "    return s;\n",
    "}\n",
    "\n",
    "int main(){\n",
    "    return foo(1, 0);\n",
    "}\n",
    "\"\"\"),build_parameters=arg_map(OPTIMIZE=[\"-O0\", \"-O1 -fno-inline\"]))\n",
    "\n",
    "compare([CP2[0].asm(\"foo\"),CP2[1].asm(\"foo\")],[CP2[0].get_build_parameters(), CP2[1].get_build_parameters()])"
   ]
  },
  {
   "cell_type": "markdown",
   "metadata": {
    "deletable": false,
    "editable": false,
    "tags": []
   },
   "source": [
    "Since the compiler can evaluate the whole loop at compile time, it does.\n",
    "Bye, bye loop!  \n",
    "\n",
    "![Bye bye](https://media3.giphy.com/media/SABGACIrfegQ4O1Aey/200w.webp?cid=ecf05e47aa8u3emxknrkw6fv3rpkesce1x1nog5t1hjpoang&rid=200w.webp&ct=g)"
   ]
  },
  {
   "cell_type": "markdown",
   "metadata": {
    "deletable": false,
    "editable": false,
    "tags": []
   },
   "source": [
    "# Practical Rules For Using Compiler Optimizations"
   ]
  },
  {
   "cell_type": "markdown",
   "metadata": {
    "deletable": false,
    "editable": false,
    "tags": []
   },
   "source": [
    "The single most important lesson to learn from this lab is that you should compile your code with optimizations turned on.  It is the easiest 2-10x boost in performance you can get.\n",
    "\n",
    "Fortunately, it's pretty simple to do that.  Somewhat overwhelmingly, Gcc provides around [300 flags](https://gcc.gnu.org/onlinedocs/gcc/Optimize-Options.html) that control optimization and a bunch of tunable parameters as well, but in practice you don't need to worry about them.\n",
    "\n",
    "There are just a handful that are typically useful.  Here's what the gcc docs have to say about them:\n",
    "\n",
    "* `-O0`: Perform no optimizations.  You should never use this unless you're just playing around.\n",
    "* `-O1`: \"the compiler tries to reduce code size and execution time, without performing any optimizations that take a great deal of compilation time.\"\n",
    "* `-O2`: \"GCC performs nearly all supported optimizations that do not involve a space-speed tradeoff.\"  \"Space\" in this context means the number of static instructions generated.\n",
    "* `-O3`: \"Optimize yet more\"\n",
    "* `-Og`: \"Optimize debugging experience. -Og should be the optimization level of choice for the standard edit-compile-debug cycle, offering a reasonable level of optimization while maintaining fast compilation and a good debugging experience.\"\n",
    "\n",
    "Among these, `-Og` is a relatively new flag that \"optimizes the debugging experience\".  What does that mean?  The optimizations we described above (especially function inlining, but others as well) can cause strange behavior when you debug.  For instance, consider the inlined version of `one()` in the previous section.  If you set a break point on `std::sort()`, your code would never stop because that function is never called.  Likewise, we've seen loops and variables disappear.  This can make debugging really difficult.  On the other hand, compiling with `-O0` will make the code much, much slower (just look at the graphs above).  So `-Og` strikes a balance:  It optimizes but avoids these problems in debugging."
   ]
  },
  {
   "cell_type": "markdown",
   "metadata": {
    "deletable": false,
    "editable": false,
    "tags": []
   },
   "source": [
    "# Branch performance in modern processors"
   ]
  },
  {
   "cell_type": "markdown",
   "metadata": {
    "deletable": false,
    "editable": false,
    "tags": []
   },
   "source": [
    "## Measuring Branch Performance with Performance Counters"
   ]
  },
  {
   "cell_type": "markdown",
   "metadata": {
    "deletable": false,
    "editable": false,
    "tags": []
   },
   "source": [
    "We'll again use performance counters to measure cache performance on our bare metal machines in the cloud.  We've use the same tools we've used so far to measure `IC`, `CPI`, `CT` and cache miss rates. This time, let's using performance counters to report the branch instruction performance. \n",
    "\n",
    "Do you remember the demo code back to the very first lecture?"
   ]
  },
  {
   "cell_type": "code",
   "execution_count": null,
   "metadata": {
    "deletable": false,
    "editable": false,
    "tags": []
   },
   "outputs": [],
   "source": [
    "compare([do_render_code(\"array_sort.cpp\",show=[\"//START\",\"END\"]),do_render_code(\"calculate_sum.c\",show=\"calculate_sum\")])"
   ]
  },
  {
   "cell_type": "markdown",
   "metadata": {
    "deletable": false,
    "editable": false,
    "tags": []
   },
   "source": [
    "Let's measure the branch performance of the for loop that performs similar mission as our demo before in the array_query.cpp:"
   ]
  },
  {
   "cell_type": "code",
   "execution_count": null,
   "metadata": {
    "deletable": false,
    "editable": false,
    "tags": []
   },
   "outputs": [],
   "source": [
    "t = fiddle(\"array_query.cpp\", function=\"array\", opt=\"-O1\", cmdline=r\"\",\n",
    "code=r\"\"\"\n",
    "#include\"function_map.hpp\"\n",
    "#include<cstdint>\n",
    "\n",
    "extern \"C\"\n",
    "uint64_t array(uint64_t * data, uint64_t data_size, uint64_t *queries, uint64_t query_size) {\n",
    "    uint64_t sum=0;\n",
    "    for(unsigned int i = 0; i < query_size; i++) {\n",
    "        for(unsigned int j = 0; j < data_size; j++) {\n",
    "            if(data[j] <= queries[i])\n",
    "                sum++;\n",
    "        }\n",
    "    }\n",
    "    return sum;\n",
    "}\n",
    "\n",
    "FUNCTION(two_arrays, array);\n",
    "\"\"\")"
   ]
  },
  {
   "cell_type": "markdown",
   "metadata": {
    "cse142.is_response": true,
    "cse142.points": 3,
    "cse142.question_type": "completeness",
    "deletable": false,
    "editable": false,
    "solution2": "hidden",
    "solution2_first": true,
    "tags": []
   },
   "source": [
    "<div class=\"alert alert-block alert-success\"><div class=\"question correctness\">\n",
    "\n",
    "### Question 8 (Correctness)\n",
    "\n",
    "<div class=\"question-text\">\n",
    "\n",
    "When `data_size=131072`, how many branch instructions are there in the above `array()` function? Assume the processor uses an advnaced branch predictor similar to the tournament introduced in the class with reasonably long history and high accuracy, what's the accuracy of branch prediction?\n",
    "</div>\n",
    "</div>\n",
    "</div>"
   ]
  },
  {
   "cell_type": "markdown",
   "metadata": {
    "cse142.is_response": true,
    "cse142.points": 3,
    "cse142.question_type": "completeness",
    "editable": true,
    "solution2": "hidden",
    "solution2_first": true,
    "tags": []
   },
   "source": [
    "<div class=\"alert alert-block alert-success\">\n",
    "<div class=\"answer\">\n",
    "\n",
    "**Number of Branch Instructions:**\n",
    "    \n",
    "**Branch prediction accuracy:**\n",
    "    \n",
    "**Show your work:**\n",
    "</div>\n",
    "</div>"
   ]
  },
  {
   "cell_type": "markdown",
   "metadata": {
    "deletable": false,
    "editable": false,
    "solution2": "hidden",
    "tags": []
   },
   "source": [
    "<div class=\"solution\">\n",
    "Run the cell below to see the measurements.\n",
    "<div>"
   ]
  },
  {
   "cell_type": "code",
   "execution_count": null,
   "metadata": {
    "deletable": false,
    "editable": false,
    "tags": []
   },
   "outputs": [],
   "source": [
    "!cse142 job run 'rm -f build/array_query.so; make MICROBENCH_OPTIMIZE=-O0 build/array_query.so fiddle.exe'\n",
    "!cse142 job run './fiddle.exe -l build/array_query.so -f array -i 1 --sort --detail -s 131072 262144 --size2 4096 16384 -M 3600 -o array_query.csv'"
   ]
  },
  {
   "cell_type": "markdown",
   "metadata": {
    "deletable": false,
    "editable": false,
    "tags": []
   },
   "source": [
    "Now, let's show the result in a table. "
   ]
  },
  {
   "cell_type": "code",
   "execution_count": null,
   "metadata": {
    "deletable": false,
    "editable": false,
    "tags": []
   },
   "outputs": [],
   "source": [
    "display(render_csv(\"array_query.csv\", columns=[\"arg1\", \"function\",\"size\", \"size2\",\"sorting\", \"IC\", \"CPI\", \"CT\",\"ET\", \"L1_dcache_miss_rate\", \"L1_dcache_misses\", \"L1_dcache_accesses\", \"branches\", \"branch_misses\"]))"
   ]
  },
  {
   "cell_type": "markdown",
   "metadata": {
    "cse142.is_response": true,
    "cse142.points": 2,
    "cse142.question_type": "completeness",
    "deletable": false,
    "editable": false,
    "solution2": "hidden",
    "solution2_first": true,
    "tags": []
   },
   "source": [
    "<div class=\"alert alert-block alert-success\"><div class=\"question correctness\">\n",
    "\n",
    "### Question 9 (Correctness)\n",
    "\n",
    "<div class=\"question-text\">\n",
    "\n",
    "When running the `array()`, if the execution with `arg1` set to 1, fiddle will sort the input data array before running the function. According to the data above, what's the most significant factor make the performance of the `array()` function better when data is sorted? Can you explain?\n",
    "    </div>\n",
    "    </div>\n",
    "    </div>\n",
    "    "
   ]
  },
  {
   "cell_type": "markdown",
   "metadata": {
    "cse142.is_response": true,
    "cse142.points": 2,
    "cse142.question_type": "completeness",
    "deletable": false,
    "editable": true,
    "solution2": "hidden",
    "solution2_first": true,
    "tags": []
   },
   "source": [
    "<div class=\"alert alert-block alert-success\">    \n",
    "<div class=\"answer\">\n",
    "Answer:\n",
    "    \n",
    "</div>\n",
    "</div>\n",
    "</div>"
   ]
  },
  {
   "cell_type": "markdown",
   "metadata": {
    "deletable": false,
    "editable": false,
    "tags": []
   },
   "source": [
    "## Reducing branches\n",
    "\n",
    "Even though we have highly accuracy branch predictors in modern processors, they can never be perfect. To fundamentally avoid branch miss penalty, the best approach is probably the elimination of branch instructions. \n",
    "\n",
    "### Loop unrolling\n",
    "The first mechanism is loop unrolling. In loop unrolling, the compiler or the programmer \"unrolls\" a loop so that the loop body contains the computation for multiple iterations of the loop. For instance:"
   ]
  },
  {
   "cell_type": "code",
   "execution_count": null,
   "metadata": {
    "cse142.is_response": true,
    "deletable": false,
    "editable": false,
    "tags": []
   },
   "outputs": [],
   "source": [
    "fiddle(\"unroll0.cpp\", function=\"foo\", opt=\"-O0\", cmdline=r\"\",\n",
    "code=r\"\"\"\n",
    "#include\"function_map.hpp\"\n",
    "#include<cstdint>\n",
    "\n",
    "extern \"C\" \n",
    "int foo(uint64_t * data, uint64_t data_size){\n",
    "    register unsigned int i, sum = 0;\n",
    "    for(i = 0; i < data_size; i++) {\n",
    "        sum+= data[i];\n",
    "    }\n",
    "    return sum;\n",
    "}\n",
    "\n",
    "FUNCTION(one_array, foo);\n",
    "\"\"\")\n",
    "unopt = fiddle(\"unroll0.cpp\", function=\"foo\", opt=\"-O1 -funroll-loops\")\n",
    "! gcc -O1 -S build/unroll0.cpp"
   ]
  },
  {
   "cell_type": "code",
   "execution_count": null,
   "metadata": {
    "cse142.is_response": true,
    "deletable": false,
    "editable": false,
    "tags": []
   },
   "outputs": [],
   "source": [
    "fiddle(\"unroll1.cpp\", function=\"foo\", opt=\"-O0\", cmdline=r\"\",\n",
    "code=r\"\"\"\n",
    "#include\"function_map.hpp\"\n",
    "#include<cstdint>\n",
    "\n",
    "extern \"C\" \n",
    "int foo(uint64_t * data, uint64_t data_size){\n",
    "    register unsigned int i, sum = 0;\n",
    "    unsigned int size = data_size >> 3;\n",
    "    for(i = 0; i < size*8; i++) {\n",
    "        sum+= data[i];\n",
    "    }\n",
    "    for(; i < data_size; i++) {\n",
    "         sum+= data[i];\n",
    "    }\n",
    "    return sum;\n",
    "}\n",
    "\n",
    "FUNCTION(one_array, foo);\n",
    "\"\"\")\n",
    "opt = fiddle(\"unroll1.cpp\", function=\"foo\", opt=\"-O1 -funroll-loops\")\n",
    "! gcc -O1 -funroll-loops -S build/unroll1.cpp"
   ]
  },
  {
   "cell_type": "code",
   "execution_count": null,
   "metadata": {
    "deletable": false,
    "editable": false,
    "tags": []
   },
   "outputs": [],
   "source": [
    "compare([do_render_code(\"unroll0.s\", show=[\"foo:\",\".LFE2984\"]),do_render_code(\"unroll1.s\", show=[\"foo:\",\".LFE2984\"])])"
   ]
  },
  {
   "cell_type": "markdown",
   "metadata": {
    "cse142.is_response": true,
    "cse142.points": 4,
    "cse142.question_type": "correctness",
    "deletable": false,
    "editable": false,
    "tags": []
   },
   "source": [
    "<div class=\"alert alert-block alert-success\"><div class=\"question correctness\"> \n",
    "\n",
    "### Question 10 (Correctness)\n",
    "\n",
    "<div class=\"question-text\">\n",
    "\n",
    "Using the generated x86 assembly code, please estimate the total number of dynamic instructions (the instruction count when executing the program) for the ```foo``` function unroll0.cpp and unroll1.cpp. Assume ```data_size``` is 10000. How many of them are branch instructions?\n",
    "    \n",
    "</div>\n",
    "    </div>\n",
    "    </div>"
   ]
  },
  {
   "cell_type": "markdown",
   "metadata": {
    "cse142.is_response": true,
    "cse142.points": 4,
    "cse142.question_type": "correctness",
    "deletable": false,
    "editable": true,
    "tags": []
   },
   "source": [
    "<div class=\"alert alert-block alert-success\">   \n",
    "<div class=\"answer\">\n",
    "    \n",
    "|File  | Total dynamic instructions| Total dynamic branch instructions|\n",
    "|------|---------|------|\n",
    "|unroll0.cpp|     |      |\n",
    "|unroll1.cpp|     |      |\n",
    "    \n",
    "</div>\n",
    "</div>\n",
    "</div>"
   ]
  },
  {
   "cell_type": "markdown",
   "metadata": {
    "deletable": false,
    "editable": false,
    "tags": []
   },
   "source": [
    "## Function Call Overhead \n",
    "\n",
    "In addition to conditional jumps, function calls are also chances where program may change its control flow.  When you a write a function, the code you write turns into the \"body\" of the function.  However, the processor has to do some work to _make_ the function call and each function includes some overhead instructions in addition to instructions for code the function contains.  For example, consider this code:"
   ]
  },
  {
   "cell_type": "code",
   "execution_count": null,
   "metadata": {
    "deletable": false,
    "editable": false,
    "tags": []
   },
   "outputs": [],
   "source": [
    "fiddle(\"prologue.cpp\", function=\"\", opt=\"-O0\", cmdline=r\"\",\n",
    "code=r\"\"\"\n",
    "long int sum(long int a, long int b) {\n",
    "    return a + b;\n",
    "}\n",
    "\n",
    "int main(){\n",
    "    return sum(1,2);\n",
    "}\n",
    "\"\"\")\n",
    "! make build/prologue.s\n",
    "render_code(\"prologue.s\")"
   ]
  },
  {
   "cell_type": "markdown",
   "metadata": {
    "deletable": false,
    "editable": false,
    "tags": []
   },
   "source": [
    "### The Application Binary Interface (ABI)\n",
    "\n",
    "There are several standardized protocols for how arguments are passed to functions and even how names are mangled.  These protocols are called \"application binary interfaces\" or ABIs.  It's important that the caller (the function that calls) and the callee (the function that is called) agree on the ABI.   The ABI dictates which arguments go in which register and in what order, the number of bits in an `int` vs a `long int`, how things like pass-by-value vs. pass-by-references are implemented, and how C++ virtual function tables (which implement virtual functions) are laid out. Generally speaking, if two object files (i.e., `.o` files) were compiled with the same ABI, functions in one object file can call functions in another.  \n",
    "\n",
    "For the most part, you can think of there being one ABI per operating system, but that's not completely accurate.  Linux has (at least) two: one for the kernel and one for user programs.  Microsoft has one.  Intel has defined a standard as well.  The [wikipedia page](https://en.wikipedia.org/wiki/Application_binary_interface) has a little more detail.\n",
    "    \n",
    "If you're curious, use the fiddle to see how the compiler passes, `struct`s, pointers to `struct`, and C++ references to `struct`s.  What's surprising about how it implements those three different language constructs?\n",
    "\n",
    "The body of `sum` is very simple:  It should just be a single add instruction, but instead it has to return as well.   The _call site_ in `main` takes 3 instructions (the `ret` is part of the overhead for calling `main`, not `sum`).\n",
    "\n",
    "In this case, the _function call overhead_ is four instructions: 1 x `ret`, 2 x `movl`, and 1 x `call`."
   ]
  },
  {
   "cell_type": "markdown",
   "metadata": {
    "cse142.is_response": true,
    "cse142.points": 1,
    "cse142.question_type": "optional",
    "deletable": false,
    "editable": false,
    "tags": []
   },
   "source": [
    "<div class=\"alert alert-block alert-success\">\n",
    "\n",
    "\n",
    "\n",
    "<div class=\"question optional\">\n",
    "\n",
    "### Question 11 (optional)    \n",
    "    \n",
    "<div class=\"question-text\">\n",
    "\n",
    "What happens to function call overhead if you add more arguments (something interesting happens past 8)?  What if pass a struct?   How does the complexity of _the caller_ affect function call overhead?\n",
    "    \n",
    "</div>\n",
    "    </div>\n",
    "    </div>\n",
    "    "
   ]
  },
  {
   "cell_type": "markdown",
   "metadata": {
    "cse142.is_response": true,
    "cse142.points": 1,
    "cse142.question_type": "optional",
    "editable": true,
    "tags": []
   },
   "source": [
    "<div class=\"alert alert-block alert-success\">    \n",
    "<div class=\"answer\">\n",
    "Answer:\n",
    "    \n",
    "</div>\n",
    "</div>"
   ]
  },
  {
   "cell_type": "markdown",
   "metadata": {
    "deletable": false,
    "editable": false,
    "tags": []
   },
   "source": [
    "### Removing Function Call Overheads\n",
    "\n",
    "One way to remove the function call overhead is to copy the body of the function (i.e., the useful part) to the caller.  Then, we don't need to pass arguments, make the `call`, or do the `ret`.\n",
    "The compiler can do this automatically by _inlining_ the function.\n",
    "\n",
    "For instance, the compiler can inline `foo` into `loop`:"
   ]
  },
  {
   "cell_type": "code",
   "execution_count": null,
   "metadata": {
    "deletable": false,
    "editable": false,
    "tags": []
   },
   "outputs": [],
   "source": [
    "loop_unopt = fiddle(\"inline1.cpp\", function=\"main\", opt=\"-O0\", code=\"\"\"\n",
    "\n",
    "\n",
    "extern \"C\" int inline __attribute__ ((used)) foo( register int a, register int b) { \n",
    "    return a + b;\n",
    "}\n",
    "\n",
    "int main(int argc, char * argv[]){\n",
    "    register int i;\n",
    "    register int s = 0;\n",
    "    for(i = 0; i < argc; i++) {\n",
    "        s += foo(i,i);\n",
    "    }\n",
    "    return s;\n",
    "}\n",
    "\"\"\")\n",
    "!make MICROBENCH_OPTIMIZE=\"-O0\" build/inline1.s\n",
    "compare([do_render_code(\"inline1.s\", show=[\"main:\",\".LFE1:\"]),do_render_code(\"inline1.s\", show=[\"foo:\",\".LFE0:\"])])"
   ]
  },
  {
   "cell_type": "markdown",
   "metadata": {
    "deletable": false,
    "editable": false,
    "tags": []
   },
   "source": [
    "Now, let's try function inlining."
   ]
  },
  {
   "cell_type": "code",
   "execution_count": null,
   "metadata": {
    "deletable": false,
    "editable": false,
    "tags": []
   },
   "outputs": [],
   "source": [
    "!make MICROBENCH_OPTIMIZE=\"-O1 -finline-functions \" build/inline1.s\n",
    "compare([do_render_code(\"inline1.s\", show=[\"main:\",\".LFE1:\"]),do_render_code(\"inline1.s\", show=[\"foo:\",\".LFE0:\"])])"
   ]
  },
  {
   "cell_type": "markdown",
   "metadata": {
    "deletable": false,
    "editable": false,
    "tags": []
   },
   "source": [
    "When the compiler is finished with `loop()` it contains all the code that was in `foo()`.  It also no longer contains a function call at all."
   ]
  },
  {
   "cell_type": "markdown",
   "metadata": {
    "cse142.is_response": true,
    "cse142.points": 1,
    "cse142.question_type": "completeness",
    "tags": []
   },
   "source": [
    "<div class=\"alert alert-block alert-success\">\n",
    "\n",
    "<div class=\"question completeness\">\n",
    "\n",
    "### Question 12 (Completeness)    \n",
    "\n",
    "\n",
    "<div class=\"question-text\">\n",
    "\n",
    "Based on the change in instruction count (IC), how much speedup does inlining provide in this case? \n",
    "    \n",
    "</div>\n",
    "\n",
    "</div>\n",
    "</div>"
   ]
  },
  {
   "cell_type": "markdown",
   "metadata": {
    "cse142.is_response": true,
    "cse142.points": 1,
    "cse142.question_type": "completeness",
    "editable": false,
    "tags": []
   },
   "source": [
    "<div class=\"alert alert-block alert-success\">    \n",
    "<div class=\"answer\">\n",
    "Answer:\n",
    "</div>\n",
    "</div>"
   ]
  },
  {
   "cell_type": "markdown",
   "metadata": {
    "editable": false,
    "solution2": "hidden"
   },
   "source": [
    "<div class=\"solution\">\n",
    "    \n",
    "Without inlining, each trip through `for` loop takes 15 instructions (8 in `loop()` and 7 in `foo()`).  With inlining, it's 4.  \n",
    "    \n",
    "How big a difference this makes depends on the value of `argc`.  Let's assume it's large (like 100).  In this case the instructions before and after the loop contribute very little to `IC` and we can ignore them.   So the speedup (ignoring the first and last basic block) approximately 14/4 = 3.5x.\n",
    "</div>"
   ]
  },
  {
   "cell_type": "markdown",
   "metadata": {
    "deletable": false,
    "editable": false,
    "tags": []
   },
   "source": [
    "But this is just the beginning of inlining's power, because it also vastly increases the opportunities to apply other optimizations.  Consider `foo()` in the example above.  Without inlining, the compiler can only apply optimizations that will work for _all_ values of `a` and `b`.  However, once `foo()` is inlined, the compiler can optimize _that copy_ of `foo()` for the values of `a` and `b` at that call site.  Then it is free to apply all the other optimizations we've discussed already.\n",
    "\n",
    "For instance:"
   ]
  },
  {
   "cell_type": "code",
   "execution_count": null,
   "metadata": {
    "deletable": false,
    "editable": false,
    "tags": []
   },
   "outputs": [],
   "source": [
    "caller_unopt = fiddle(\"inline2.cpp\", opt=\"-Og\", code=\"\"\"\n",
    "\n",
    "extern \"C\" inline int loop(register int a) { \n",
    "    register int i;\n",
    "    register int sum = 0;\n",
    "    for(i = 0; i < a; i++) {\n",
    "        sum += i;\n",
    "    }\n",
    "    return sum;\n",
    "}\n",
    "\n",
    "extern \"C\" int caller(register int a) {\n",
    "    return loop(20);\n",
    "}\n",
    "\n",
    "int main(){\n",
    "    caller(1);\n",
    "}\n",
    "\"\"\")\n",
    "#caller_opt = fiddle(\"inline2.cpp\", function=\"caller\", run=False, remove_assembly=False, opt=\"-O3\")\n",
    "#loop_unopt = fiddle(\"inline2.cpp\", function=\"loop\", run=False, remove_assembly=False, opt=\"-Og -fkeep-inline-functions\")\n",
    "\n",
    "!make MICROBENCH_OPTIMIZE=\"-Og -fkeep-inline-functions\" build/inline2.s\n",
    "compare([do_render_code(\"inline2.s\", show=[\"main:\",\".LFE2:\"]),do_render_code(\"inline2.s\", show=[\"caller:\",\".LFE1:\"]),do_render_code(\"inline2.s\", show=[\"loop:\",\".LFE0:\"])])"
   ]
  },
  {
   "cell_type": "markdown",
   "metadata": {
    "deletable": false,
    "editable": false,
    "tags": []
   },
   "source": [
    "With inlining and compiler optimizations:"
   ]
  },
  {
   "cell_type": "code",
   "execution_count": null,
   "metadata": {
    "deletable": false,
    "editable": false,
    "tags": []
   },
   "outputs": [],
   "source": [
    "!make MICROBENCH_OPTIMIZE=\"-O3\" build/inline2.s\n",
    "compare([do_render_code(\"inline2.s\", show=[\"main:\",\".LFE2:\"]),do_render_code(\"inline2.s\", show=[\"caller:\",\".LFE1:\"]),do_render_code(\"inline2.s\", show=[\"loop:\",\".LFE0:\"])])"
   ]
  },
  {
   "cell_type": "markdown",
   "metadata": {
    "deletable": false,
    "editable": false,
    "tags": []
   },
   "source": [
    "Bye bye, function call!  Bye Bye, loop!\n",
    "\n",
    "![bye bye](https://media3.giphy.com/media/tuvMgAPzxaQBq/200.webp?cid=ecf05e47jb4f5ojpiqlpr9o2b5wdn980swe4q4pcbwxmbxcu&rid=200.webp&ct=g)\n"
   ]
  },
  {
   "cell_type": "markdown",
   "metadata": {
    "cse142.is_response": true,
    "cse142.points": 1,
    "cse142.question_type": "completeness",
    "deletable": false,
    "editable": false,
    "tags": []
   },
   "source": [
    "<div class=\"alert alert-block alert-success\">\n",
    "\n",
    "<div class=\"question completeness\">\n",
    "\n",
    "### Question 13 (Completeness)    \n",
    "\n",
    "\n",
    "<div class=\"question-text\">\n",
    "\n",
    "Which optimizations did the compiler apply to come up with inlined, optimized version of `caller()`?  For each optimization explain what it accomplished.\n",
    "    \n",
    "</div>\n",
    "</div>\n",
    "</div>\n",
    "    "
   ]
  },
  {
   "cell_type": "markdown",
   "metadata": {
    "cse142.is_response": true,
    "cse142.points": 1,
    "cse142.question_type": "completeness",
    "editable": true,
    "tags": []
   },
   "source": [
    "   \n",
    "<div class=\"alert alert-block alert-success\">\n",
    "\n",
    "<div class='answer'>\n",
    "Answer:\n",
    "\n",
    "</div>\n",
    "</div>\n",
    "\n",
    "</div>"
   ]
  },
  {
   "cell_type": "markdown",
   "metadata": {
    "deletable": false,
    "editable": false,
    "solution2": "hidden",
    "tags": []
   },
   "source": [
    "<div class=\"solution\">\n",
    "The compiler applied:\n",
    "    \n",
    "1. Inlining -- It merged `foo()` into the loop.\n",
    "2. constant propagation -- The loop bound becomes constant.\n",
    "3. Loop unrolling -- It completely unrolled the loop because it has a constant loop bound.\n",
    "4. constant prop -- It evaluated the unrolled loop at compile time.\n",
    "</div>"
   ]
  },
  {
   "cell_type": "markdown",
   "metadata": {
    "deletable": false,
    "editable": false,
    "tags": []
   },
   "source": [
    "# Instruction Level Parallelism"
   ]
  },
  {
   "cell_type": "markdown",
   "metadata": {
    "deletable": false,
    "editable": false,
    "tags": []
   },
   "source": [
    "As you learned in CSE142, modern processors can exploit parallelism between instructions by fetching a large \"window\" of instructions and dynamically identifying instructions that can execute at the same time. The algorithm it uses is pretty amazing and the fact that processors can do this at over 3GHz is mind-blowing.\n",
    "\n",
    "But how well does it work?  How much ILP can we get?  Where does ILP come from?\n",
    "\n",
    "## Let's Look at Our Machine\n",
    "\n",
    "Please reference Figure 1 of the [Intel Alder Lake CPU Architectures](https://ieeexplore.ieee.org/document/9747991) paper. \n",
    "\n",
    "In the integer block (red block), 5 function units can all execute basic arithmetic operations (\"ALU\"), 5 units (\"AGU\") can execute address calculation instructions like `lea`, and two can only execute store instructions.  Each AGUs is connected to a load/store units. This means that processor can issue up to 5 memory load operations or 7 store per cycle."
   ]
  },
  {
   "cell_type": "markdown",
   "metadata": {
    "cse142.is_response": true,
    "cse142.points": 3,
    "cse142.question_type": "completeness",
    "deletable": false,
    "editable": false,
    "tags": []
   },
   "source": [
    "<div class=\"alert alert-block alert-success\">\n",
    "\n",
    "<div class=\"question correctness\">\n",
    "    \n",
    "### Question 14 (Correctness)\n",
    "\n",
    "<div class=\"question-text\">\n",
    "    \n",
    "Based on Figure 1 in the Intel Alder Lake paper, what's the minimum achievable CPI for ALU operations on our CPU? For load/store operations? For all operations?\n",
    "    \n",
    "</div>\n",
    "    </div>\n",
    "    </div>"
   ]
  },
  {
   "cell_type": "markdown",
   "metadata": {
    "cse142.is_response": true,
    "cse142.points": 3,
    "cse142.question_type": "completeness",
    "deletable": false,
    "editable": true,
    "tags": []
   },
   "source": [
    "<div class=\"alert alert-block alert-success\">   \n",
    "<div class=\"answer\">\n",
    "    \n",
    "**Minimum possible ALU CPI**:\n",
    "    \n",
    "**Minimum possible load/store CPI**:\n",
    "\n",
    "**Minimum possible total CPI**:\n",
    "    \n",
    "</div>\n",
    "</div>"
   ]
  },
  {
   "cell_type": "markdown",
   "metadata": {
    "deletable": false,
    "editable": false,
    "solution2": "hidden",
    "tags": []
   },
   "source": [
    "<div class=\"solution\"> \n",
    "   \n",
    "It appears that the CPU can execute five ALU operations in one cycle.  So the minimum CPI would be 1/5 = 0.2.\n",
    "    \n",
    "For loads/stores, it seems we can do 5 to 7 per cycle, so the CPI should be 1/5 = 0.2 or as low as 1/7.\n",
    "\n",
    "All together (loads, stores, ALU, and **branches**), it appears that 1/10 = 0.1 should be possible.\n",
    "</div>"
   ]
  },
  {
   "cell_type": "markdown",
   "metadata": {
    "cse142.is_response": true,
    "cse142.points": 1,
    "cse142.question_type": "completeness",
    "deletable": false,
    "editable": false,
    "tags": []
   },
   "source": [
    "<div class=\"alert alert-block alert-success\">\n",
    "\n",
    "<div class=\"question completeness\">\n",
    "\n",
    "### Question 15 (Completeness)    \n",
    "\n",
    "<div class=\"question-text\">\n",
    "    \n",
    "Based on this design, do you think the designers are more concerned about achieving parallelism between memory operations or arithmetic (non-memory) operations?\n",
    "    \n",
    "</div>\n",
    "</div>\n",
    "</div>"
   ]
  },
  {
   "cell_type": "markdown",
   "metadata": {
    "cse142.is_response": true,
    "cse142.points": 1,
    "cse142.question_type": "completeness",
    "deletable": false,
    "tags": []
   },
   "source": [
    "<div class=\"alert alert-block alert-success\">\n",
    "<div class=\"answer\">\n",
    "Answer:  \n",
    "</div>\n",
    "</div>"
   ]
  },
  {
   "cell_type": "markdown",
   "metadata": {
    "cse142.is_response": true,
    "cse142.question_type": "optional",
    "deletable": false,
    "editable": false,
    "tags": []
   },
   "source": [
    "<div class=\"alert alert-block alert-success\">\n",
    "\n",
    "<div class=\"question optional\">\n",
    "\n",
    "### Question 16 (Optional) \n",
    "    \n",
    "<div class=\"question-text\">\n",
    "    \n",
    "Why does it \"execute\" the data and address for a load/store separately?\n",
    "    \n",
    "</div>\n",
    "\n",
    "</div>        \n",
    "</div>"
   ]
  },
  {
   "cell_type": "markdown",
   "metadata": {
    "cse142.is_response": true,
    "cse142.question_type": "optional",
    "deletable": false,
    "tags": []
   },
   "source": [
    "<div class=\"alert alert-block alert-success\">\n",
    "<div class=\"answer\">\n",
    "Answer:\n",
    "</div>        \n",
    "</div>"
   ]
  },
  {
   "cell_type": "markdown",
   "metadata": {
    "deletable": false,
    "editable": false,
    "tags": []
   },
   "source": [
    "## Experiments\n",
    "\n",
    "Here's a simple function (run the code to see it).  I've turned off optimizations and use `register` to get `i` into a register.\n",
    "\n",
    "Study the code and pay particular attention to the data dependences between the instructions in the inner loop body."
   ]
  },
  {
   "cell_type": "code",
   "execution_count": null,
   "metadata": {
    "deletable": false,
    "editable": false,
    "tags": []
   },
   "outputs": [],
   "source": [
    "t = fiddle(\"ilp.cpp\", function=[\"wide_1\", \"wide_2\", \"wide_3\", \"wide_4\", \"wide_5\"], name=\"ilp\", opt=\"-O0\", run=[], \n",
    "           cmdline=f\"-size 10000000\", \n",
    "           perf_cmdline=\"-M 3600\")\n",
    "! cse142 job run \"rm -f build/ilp.so; rm fiddle.exe; make MICROBENCH_OPTIMIZE='-O0 -g' build/ilp.so fiddle.exe; make MICROBENCH_OPTIMIZE=-O0 build/ilp.s\"\n",
    "compare([do_render_code(\"ilp.cpp\",show=\"wide_1\"),do_render_code(\"ilp.s\", show=[\"wide_1:\",\".LFE2876:\"])])"
   ]
  },
  {
   "cell_type": "markdown",
   "metadata": {
    "cse142.is_response": true,
    "cse142.points": 1,
    "cse142.question_type": "completeness",
    "deletable": false,
    "editable": false,
    "tags": []
   },
   "source": [
    "<div class=\"alert alert-block alert-success\">\n",
    "\n",
    "<div class=\"question completeness\">\n",
    "\n",
    "### Question 17 (Completeness)     \n",
    "    \n",
    "<div class=\"question-text\">\n",
    "Looking at the assembly code of `wide_1()`,\n",
    "what's the critical path length through $n$ iterations of the inner loop body of `wide_1()`?  Based on the dependences in the inner loop (between .L19 and .L18), estimate the CPI for this code (assuming the inner loop runs many, many times).        \n",
    "</div>\n",
    "    </div>\n",
    "    </div>"
   ]
  },
  {
   "cell_type": "markdown",
   "metadata": {
    "cse142.is_response": true,
    "cse142.points": 1,
    "cse142.question_type": "completeness",
    "deletable": false,
    "editable": true,
    "tags": []
   },
   "source": [
    "<div class=\"alert alert-block alert-success\">   \n",
    "<div class=\"answer\">\n",
    "    \n",
    "1. **critical path**:\n",
    "    \n",
    "2. **CPI**:\n",
    "</div>\n",
    "</div>"
   ]
  },
  {
   "cell_type": "markdown",
   "metadata": {
    "deletable": false,
    "editable": false,
    "solution2": "hidden",
    "tags": []
   },
   "source": [
    "<div class=\"solution\"> \n",
    "\n",
    "All the `addq` instructions in the body read and write `rbx`, so each is dependent on the one prior to it, and there is a cross-loop dependence on `rbx` as well.\n",
    "    \n",
    "Further, the `cmpq` is dependent on the last `addq` as well, and the `jnb` is dependent on the `cmpq`. However, they don't add to the critical path for two reasons:\n",
    "    \n",
    "1. Nothing is dependent on the `jnb`\n",
    "2. The `jnb` is a very predictable branch, so it and the `cmpq` will not affect execution very much.  Likewise, we can ignore the `jmp` as well.\n",
    "    \n",
    "So, the critical path for $n$ iteration is $6n$.\n",
    "\n",
    "The nominal latency for an `addq` is 1 cycle, so the latency of $n$ iterations is about $6n$ cycles.    There are 9 instructions per iteration, so `CPI` should be 6/9 = 0.67.\n",
    "\n",
    "</div>"
   ]
  },
  {
   "cell_type": "markdown",
   "metadata": {
    "deletable": false,
    "editable": false,
    "tags": []
   },
   "source": [
    "Let's see how it comes out:"
   ]
  },
  {
   "cell_type": "code",
   "execution_count": null,
   "metadata": {
    "deletable": false,
    "editable": false,
    "tags": []
   },
   "outputs": [],
   "source": [
    "! cse142 job run \"./fiddle.exe -s 10000000 -M 3300 -l build/ilp.so -f wide_1 -o ilp.csv\"\n",
    "\n",
    "render_csv(\"ilp.csv\", columns=[\"function\", \"IC\", \"CPI\", \"CT\", \"ET\"])"
   ]
  },
  {
   "cell_type": "markdown",
   "metadata": {
    "deletable": false,
    "editable": false,
    "tags": []
   },
   "source": [
    "Pretty good agreement!\n",
    "\n",
    "Let's try another function, ``wide_2``.  Same questions."
   ]
  },
  {
   "cell_type": "code",
   "execution_count": null,
   "metadata": {
    "deletable": false,
    "editable": false,
    "tags": []
   },
   "outputs": [],
   "source": [
    "t = fiddle(\"ilp.cpp\", function=[\"wide_1\", \"wide_2\", \"wide_3\", \"wide_4\", \"wide_5\"], name=\"ilp\", opt=\"-O0\", run=[], \n",
    "           cmdline=f\"-size 10000000\", \n",
    "           perf_cmdline=\"-M 3600\")\n",
    "! cse142 job run \"rm -f build/ilp.so; rm fiddle.exe; make MICROBENCH_OPTIMIZE='-O0 -g' build/ilp.so fiddle.exe; make MICROBENCH_OPTIMIZE=-O0 build/ilp.s\"\n",
    "compare([do_render_code(\"ilp.cpp\",show=\"wide_2\"),do_render_code(\"ilp.s\", show=[\"wide_2:\",\"wide_2_reg:\"])])"
   ]
  },
  {
   "cell_type": "markdown",
   "metadata": {
    "cse142.is_response": true,
    "cse142.question_type": "correctness",
    "deletable": false,
    "editable": false,
    "tags": []
   },
   "source": [
    "<div class=\"alert alert-block alert-success\">\n",
    "    \n",
    "<div class=\"question correctness points-2\">\n",
    "    \n",
    "### Question 18 (Correctness)\n",
    "<div class=\"question-text\">\n",
    "What's the critical path length through $n$ iterations of inner loop body of `wide_2()`?  Based on the dependences in the inner loop, estimate the CPI for this code (assuming the inner loop runs many, many times).        \n",
    "</div>\n",
    "</div>    \n",
    "</div>"
   ]
  },
  {
   "cell_type": "markdown",
   "metadata": {
    "cse142.is_response": true,
    "cse142.question_type": "correctness",
    "deletable": false,
    "editable": true,
    "tags": []
   },
   "source": [
    "<div class=\"alert alert-block alert-success\">\n",
    "<div class=\"answer\">\n",
    "    \n",
    "1. **critical path**: \n",
    "    \n",
    "2. **CPI (show your work)**: \n",
    "</div>\n",
    "</div>\n",
    "</div>"
   ]
  },
  {
   "cell_type": "markdown",
   "metadata": {
    "deletable": false,
    "editable": false,
    "tags": []
   },
   "source": [
    "Let's validate your answer to the previous question!"
   ]
  },
  {
   "cell_type": "code",
   "execution_count": null,
   "metadata": {
    "deletable": false,
    "editable": false,
    "tags": []
   },
   "outputs": [],
   "source": [
    "! cse142 job run \"./fiddle.exe -s 10000000 -M 3300 -l build/ilp.so -f wide_2 -o ilp_2.csv\"\n",
    "\n",
    "render_csv(\"ilp_2.csv\", columns=[\"function\", \"IC\", \"CPI\", \"CT\", \"ET\"])"
   ]
  },
  {
   "cell_type": "markdown",
   "metadata": {
    "deletable": false,
    "editable": false,
    "tags": []
   },
   "source": [
    "I have three more of these functions: `wide_3()` through `wide_5()` with more parallel sequences of dependent increments: "
   ]
  },
  {
   "cell_type": "code",
   "execution_count": null,
   "metadata": {
    "deletable": false,
    "editable": false,
    "tags": []
   },
   "outputs": [],
   "source": [
    "render_code(\"ilp.cpp\", show=\"wide_5\")\n",
    "\n",
    "! cse142 job run \"./fiddle.exe -s 10000000 -M 3300 -l build/ilp.so -f wide_1 wide_2 wide_3 wide_4 wide_5 -o ilp_5.csv\"\n",
    "\n",
    "render_csv(\"ilp_5.csv\", columns=[\"function\", \"IC\", \"CPI\", \"CT\", \"ET\"])"
   ]
  },
  {
   "cell_type": "code",
   "execution_count": null,
   "metadata": {
    "deletable": false,
    "editable": false,
    "tags": []
   },
   "outputs": [],
   "source": [
    "display(render_csv(\"ilp_5.csv\", columns=[\"function\", \"IC\", \"CPI\", \"ET\"]))\n",
    "plotPEBar(\"ilp_5.csv\", what=[(\"function\", \"CPI\")])"
   ]
  },
  {
   "cell_type": "markdown",
   "metadata": {
    "deletable": false,
    "editable": false,
    "tags": []
   },
   "source": [
    "Wow, we came very close to hitting our theoretical minimum CPI!:  The processor can issue up to 4 arithmetic instructions per cycle and 1 additional branch instruction. So we got a CPI of just between 0.20 to 0.25."
   ]
  },
  {
   "cell_type": "markdown",
   "metadata": {
    "deletable": false,
    "editable": false,
    "tags": []
   },
   "source": [
    "## Dynamic Loop Unrolling\n",
    "\n",
    "`wide_5()` is not a very realistic function, since it has an artificially huge amount of ILP.  But ILP can arise in more natural ways as well.\n",
    "\n",
    "Below is a function that represents a common pattern:  A loop body that computes a value based on the loop index and stores it somewhere.  In this case, the computations is a long chain of additions.   Study it and answer the question below."
   ]
  },
  {
   "cell_type": "code",
   "execution_count": null,
   "metadata": {
    "deletable": false,
    "editable": false,
    "tags": []
   },
   "outputs": [],
   "source": [
    "\n",
    "t = fiddle(\"unroll.cpp\", function=\"unroll_1\", opt=\"-O0\",\n",
    "code=r\"\"\"\n",
    "#include\"function_map.hpp\"\n",
    "#include<cstdint>\n",
    "\n",
    "extern \"C\"\n",
    "uint64_t* unroll_1(uint64_t threads, uint64_t * data, uint64_t size, uint64_t arg1, uint64_t arg2, uint64_t arg3) {\n",
    "    register uint64_t a = 4;\n",
    "\n",
    "    for(register uint64_t i = 0; i < size; i++) {\n",
    "       a = i+1;\n",
    "       a = a+1;       \n",
    "       a = a+1;       \n",
    "       a = a+1;       \n",
    "       a = a+1;       \n",
    "       data[i] = a;\n",
    "    }\n",
    "    data[0] = a;\n",
    "    return data;\n",
    "}\n",
    "FUNCTION(one_array_2arg, unroll_1);\n",
    "\"\"\", \n",
    "           cmdline=f\"--size 10000000\", \n",
    "           perf_cmdline=\"\")"
   ]
  },
  {
   "cell_type": "code",
   "execution_count": null,
   "metadata": {
    "deletable": false,
    "editable": false,
    "tags": []
   },
   "outputs": [],
   "source": [
    "! cse142 job run \"rm -f build/unroll.so; rm fiddle.exe; make MICROBENCH_OPTIMIZE='-O0 -g' build/unroll.so fiddle.exe; make MICROBENCH_OPTIMIZE=-O0 build/unroll.s\"\n",
    "compare([do_render_code(\"build/unroll.cpp\",show=\"unroll_1\"),do_render_code(\"unroll.s\", show=[\"unroll_1:\",\".LFE2876:\"])])"
   ]
  },
  {
   "cell_type": "markdown",
   "metadata": {
    "cse142.is_response": true,
    "cse142.points": 4,
    "cse142.question_type": "correctness",
    "deletable": false,
    "editable": false,
    "tags": []
   },
   "source": [
    "<div class=\"alert alert-block alert-success\">\n",
    "\n",
    "<div class=\"question completeness\">\n",
    "    \n",
    "### Question 19 (Completeness)\n",
    "<div class=\"question-text\">\n",
    "What's the critical path length through $n$ iterations of inner loop body of `unroll_1()` (assume $n$ is large)?  Estimate the CPI for this code (assuming the inner loop runs many, many times, and the latency for each instruction is 1).        \n",
    "</div>\n",
    "</div>\n",
    "</div>"
   ]
  },
  {
   "cell_type": "markdown",
   "metadata": {
    "cse142.is_response": true,
    "cse142.points": 4,
    "cse142.question_type": "correctness",
    "deletable": false,
    "editable": true
   },
   "source": [
    "<div class=\"alert alert-block alert-success\">\n",
    "    \n",
    "<div class=\"answer\">\n",
    "    \n",
    "1. **critical path**:\n",
    "    \n",
    "2. **CPI**:\n",
    "</div>\n",
    "</div>    "
   ]
  },
  {
   "cell_type": "markdown",
   "metadata": {
    "deletable": false,
    "editable": false,
    "tags": []
   },
   "source": [
    "Now, let's run it and see if your estimation matches!"
   ]
  },
  {
   "cell_type": "code",
   "execution_count": null,
   "metadata": {
    "deletable": false,
    "editable": false,
    "tags": []
   },
   "outputs": [],
   "source": [
    "! cse142 job run \"./fiddle.exe -M 3600 -l build/unroll.so -s 10000000 -f unroll_1 -o unroll.csv\"\n",
    "render_csv(\"unroll.csv\",columns=[\"function\", \"IC\", \"CPI\", \"CT\", \"ET\"])"
   ]
  },
  {
   "cell_type": "markdown",
   "metadata": {
    "deletable": false,
    "editable": false,
    "tags": []
   },
   "source": [
    "That falls a short of our expectation.  Figuring out why would require some careful investigation, but there are a few complications the analysis above didn't consider:\n",
    "\n",
    "1.  The first movq (a load indeed) in the code block `L19` is 4 cycles, so the path from that instruction to store is 5 cycles, which is _almost_ the critical path.  Unlucky scheduling could increase the latency further.\n",
    "2.  The load, store, and `lea` instructions can only issue subsets of the functional units."
   ]
  },
  {
   "cell_type": "markdown",
   "metadata": {
    "cse142.is_response": true,
    "cse142.points": 4,
    "cse142.question_type": "optional",
    "deletable": false,
    "editable": false,
    "tags": []
   },
   "source": [
    "<div class=\"alert alert-block alert-success\">\n",
    "<div class=\"question optional\">\n",
    "\n",
    "### Question 20 (Optional)    \n",
    "    \n",
    "<div class=\"question-text\">\n",
    "\n",
    "Copy the code for `unroll_1()` to create new function called `unroll_byhand()`.  Can you unroll the loop by hand and get better performance than the processor can unrolling it in hardware?    \n",
    "\n",
    "</div>\n",
    "</div>\n",
    "</div>"
   ]
  },
  {
   "cell_type": "markdown",
   "metadata": {
    "cse142.is_response": true,
    "cse142.points": 4,
    "cse142.question_type": "optional",
    "deletable": false,
    "editable": true,
    "tags": []
   },
   "source": [
    "<div class=\"alert alert-block alert-success\">\n",
    "<div class=\"answer\">\n",
    "    \n",
    "1. **critical path**: \n",
    "    \n",
    "2. **CPI (show your work)**: \n",
    "</div>\n",
    "    \n",
    "</div>\n",
    "</div>"
   ]
  },
  {
   "cell_type": "markdown",
   "metadata": {
    "deletable": false,
    "editable": false,
    "tags": []
   },
   "source": [
    "# Memory-level Parallelism\n",
    "\n",
    "One of the key themes in this class is that it's really all about memory, so it is with ILP as well:  Parallelism among arithmetic instructions is fine, but it's the parallelism among memory operations that really pays off.  \n",
    "\n",
    "In fact memory parallelism is so important that it has its own name: Memory Level Parallelism (MLP).\n",
    "\n",
    "Let's take a look at a new and improved miss machine and use it to explore MLP.\n",
    "\n",
    "## Miss Machine\n",
    "\n",
    "Look over the code and make sure you understand it."
   ]
  },
  {
   "cell_type": "code",
   "execution_count": null,
   "metadata": {
    "deletable": false,
    "editable": false,
    "tags": []
   },
   "outputs": [],
   "source": [
    "render_code(\"MissMachine.hpp\")"
   ]
  },
  {
   "cell_type": "markdown",
   "metadata": {
    "deletable": false,
    "editable": false,
    "tags": []
   },
   "source": [
    "## Parallel Miss Machines\n",
    "\n",
    "We will use `MissMachine` to create parallel chains of loads much like we built parallel chains of adds in the previous section.\n",
    "\n",
    "The code below accomplishes this by creating a miss machine, and then spreading four pointers uniformly along the circular chain of links.  Then we traverse the chain at all four points in the chain in parallel.  Here's the code and the assembly.  The key basic block is the three instructions after `.L181`, `al` and `bl` are in `rcx` and `r12`."
   ]
  },
  {
   "cell_type": "code",
   "execution_count": null,
   "metadata": {
    "deletable": false,
    "editable": false,
    "tags": []
   },
   "outputs": [],
   "source": [
    "! cse142 job run \"make MICROBENCH_OPTIMIZE=-O3 build/miss_machines.s; make MICROBENCH_OPTIMIZE=-O3 build/miss_machines.so\"\n",
    "compare([do_render_code(\"miss_machines.cpp\", show=\"sample\"),do_render_code(\"miss_machines.s\", show=[\".L181:\",\".L173:\"])])"
   ]
  },
  {
   "cell_type": "markdown",
   "metadata": {
    "cse142.is_response": true,
    "cse142.points": 4,
    "cse142.question_type": "correctness",
    "deletable": false,
    "editable": false,
    "tags": []
   },
   "source": [
    "<div class=\"alert alert-block alert-success\">\n",
    "<div class=\"question correctness points-4\"> \n",
    "\n",
    "### Question 21 (Correctness)\n",
    "<div class=\"question-text\">\n",
    "What's the critical path (in cycles) for the inner loop above?  And what's the estimated CPI.  Recall that the latency for a cache hit on our machine is 4 cycles.  Assume the loads all hit. </div>\n",
    "</div>\n",
    "</div>"
   ]
  },
  {
   "cell_type": "markdown",
   "metadata": {
    "cse142.is_response": true,
    "cse142.points": 4,
    "cse142.question_type": "correctness",
    "deletable": false,
    "editable": true,
    "tags": []
   },
   "source": [
    "<div class=\"alert alert-block alert-success\">\n",
    "<div class=\"answer\">\n",
    "    \n",
    "1. **critical path**:  \n",
    "    \n",
    "2. **CPI**:  \n",
    "    \n",
    "</div>\n",
    "</div>\n",
    "</div>"
   ]
  },
  {
   "cell_type": "markdown",
   "metadata": {
    "deletable": false,
    "editable": false,
    "tags": []
   },
   "source": [
    "## L1 Hits\n",
    "\n",
    "Our goal is to measure our processor's L1 cache bandwidth by maximizing memory-level parallelism.  To do this, `miss_machines.cpp` has a function with a large switch statement that starts like this:"
   ]
  },
  {
   "cell_type": "code",
   "execution_count": null,
   "metadata": {
    "deletable": false,
    "editable": false,
    "tags": []
   },
   "outputs": [],
   "source": [
    "render_code(\"miss_machines.cpp\", show=(\"//START\", \"//END\"))"
   ]
  },
  {
   "cell_type": "markdown",
   "metadata": {
    "deletable": false,
    "editable": false,
    "tags": []
   },
   "source": [
    "Each `case` runs the same loop with a different number \"miss chains\" -- parallel sequences of loads.  You can look as the assembly if you want, but it's long and messy:"
   ]
  },
  {
   "cell_type": "code",
   "execution_count": null,
   "metadata": {
    "deletable": false,
    "editable": false,
    "tags": []
   },
   "outputs": [],
   "source": [
    "render_code(\"miss_machines.s\", lang=\"gas\", show=\"miss_machines\")"
   ]
  },
  {
   "cell_type": "markdown",
   "metadata": {
    "cse142.is_response": true,
    "cse142.points": 1,
    "cse142.question_type": "correctness",
    "deletable": false,
    "editable": false,
    "solution2": "hidden",
    "solution2_first": true,
    "tags": []
   },
   "source": [
    "<div class=\"alert alert-block alert-success\"><div class=\"question optional\">\n",
    "\n",
    "### Question 22 (Optional)\n",
    "<div class=\"question-text\">\n",
    "\n",
    "How did the compiler implement the switch statement?  Is it faster than a sequence of `if-else` statements?\n",
    "</div>\n",
    "</div>\n",
    "</div>"
   ]
  },
  {
   "cell_type": "markdown",
   "metadata": {
    "cse142.is_response": true,
    "cse142.points": 1,
    "cse142.question_type": "correctness",
    "deletable": false,
    "editable": true,
    "solution2": "hidden",
    "solution2_first": true,
    "tags": []
   },
   "source": [
    "<div class=\"alert alert-block alert-success\"> \n",
    "<div class=\"answer\">\n",
    "Answer:\n",
    "\n",
    "</div>\n",
    "</div>\n",
    "</div>"
   ]
  },
  {
   "cell_type": "markdown",
   "metadata": {
    "deletable": false,
    "editable": false,
    "tags": []
   },
   "source": [
    "As we add more parallel chains, bandwidth will increase, but only to a point."
   ]
  },
  {
   "cell_type": "markdown",
   "metadata": {
    "cse142.is_response": true,
    "cse142.points": 1,
    "cse142.question_type": "completeness",
    "deletable": false,
    "editable": false,
    "tags": []
   },
   "source": [
    "<div class=\"alert alert-block alert-success\">\n",
    "<div class=\"question completeness\">\n",
    "\n",
    "### Question 23 (Completeness)\n",
    "\n",
    "<div class=\"question-text\">\n",
    "Based on Figure 1 in the Zen 3 architecture paper, how many parallel miss chains will produce the maximum L1 bandwidth (most loads completed per second)?  What do you think that bandwidth will be?  With that number of miss chains, what will the CPI be?  Remember: Load hits take 4 cycles.\n",
    "</div>\n",
    "</div>\n",
    "</div>    "
   ]
  },
  {
   "cell_type": "markdown",
   "metadata": {
    "cse142.is_response": true,
    "cse142.points": 1,
    "cse142.question_type": "completeness",
    "deletable": false,
    "editable": true
   },
   "source": [
    "<div class=\"alert alert-block alert-success\">   \n",
    "<div class=\"answer\">\n",
    "    \n",
    "**How many miss chains**: \n",
    "    \n",
    "**L1 Bandwidth**:  \n",
    "    \n",
    "**CPI**:\n",
    "    \n",
    "</div>\n",
    "    \n",
    "</div>"
   ]
  },
  {
   "cell_type": "markdown",
   "metadata": {
    "solution2": "hidden",
    "tags": []
   },
   "source": [
    "<div class=\"solution\">\n",
    "\n",
    "Figure 2 shows two load units, which suggests that the processor execute two loads per cycle.  We'll call this the maximum _issue rate_.  This would seem to suggest that 3 miss chains would be sufficient.  They would run at 3.3GHz giving us $10.8\\times 10^9$ loads of 8 bytes per second or 86.4GB/s.  \n",
    "\n",
    "However, there is a catch:  Each load takes 4 cycles.  So it's not so much that the processor can \"perform\" two loads at a time, but that it can _start_ two loads at a time.  Those loads will finish 4 cycles later.  In the three intervening cycles, the processor could start 6 more loads.\n",
    "    \n",
    "This suggests that we will need 8 miss chains to achieve our 86.4GB/s.\n",
    "\n",
    "To compute the CPI, we can look at the loop body for `mm_sample()`:\n",
    "\n",
    "```gas\n",
    ".L181:\n",
    "\tmovq\t(%rcx), %rcx\n",
    "\tmovq\t(%r12), %r12\n",
    "\tsubl\t$1, %eax\n",
    "\tjne\t.L181\n",
    "```\n",
    "\n",
    "Two loads -- one per miss chain -- and 2 more instructions.  With 8 chains, that'd be 10 (1 per miss-chain + 2 more) instructions per loop iteration with a critical path of 4 -- 5 cycles (The latency of 1 load), so that'd be a CPI of 0.45.\n",
    "\n",
    "If you dig through the longer assembly list above, you'll find that is not quite right.  Here's the loop body for 8 miss-chain loop:\n",
    "    \n",
    "```gas\n",
    "    \n",
    ".L106:\n",
    "\tleal\t1(%r10), %r13d\n",
    "\tmovq\t(%rax), %rax\n",
    "\tmovq\t(%rdx), %rdx\n",
    "\tmovq\t(%rsi), %rsi\n",
    "\tmovq\t(%rdi), %rdi\n",
    "\tmovq\t%r13, %r10\n",
    "\tmovq\t(%r12), %r12\n",
    "\tmovq\t0(%rbp), %rbp\n",
    "\tmovq\t(%rbx), %rbx\n",
    "\tmovq\t(%r11), %r11\n",
    "\tmovq\t(%rcx), %rcx\n",
    "\tmovq\t(%r8), %r8\n",
    "\tcmpq\t%r15, %r13\n",
    "\tjb\t.L106\n",
    "\tjmp\t.L96\n",
    "```\n",
    "\n",
    "It has 13 instructions (I'm not sure what the extra three instructions are for), which would make the CPI 4/13=0.31.\n",
    "    \n",
    "</div>"
   ]
  },
  {
   "cell_type": "markdown",
   "metadata": {
    "deletable": false,
    "editable": false,
    "tags": []
   },
   "source": [
    "Let's see how it comes out:"
   ]
  },
  {
   "cell_type": "code",
   "execution_count": null,
   "metadata": {
    "deletable": false,
    "editable": false,
    "tags": []
   },
   "outputs": [],
   "source": [
    "t = fiddle(fname=\"miss_machines.cpp\", function=\"miss_machines\", name=\"L1_hit_machine\", opt=\"-O3 \", analyze=False, run=['perf_count'], \n",
    "           cmdline=f\"--size {4*4096} -a 8 --arg2 1 2 3 4 5 6 7 8 9 --arg3 10000000\", \n",
    "           perf_cmdline=f\"--stat-set L1.cfg --MHz 3600  --calc GB_per_sec=arg3*arg2*8/ET/{1024*1024*1024}\")\n",
    "! cse142 job run \"rm fiddle.exe; rm build/miss_machines.so; make MICROBENCH_OPTIMIZE='-O3' build/miss_machines.so fiddle.exe\"\n",
    "! cse142 job run \"./fiddle.exe -l ./build/miss_machines.so -f miss_machines --size {4*4096} -a 8 --arg2 1 2 3 4 5 6 7 8 9 --arg3 10000000 -M 3600 -o L1_hit_machine.csv --detail\""
   ]
  },
  {
   "cell_type": "code",
   "execution_count": null,
   "metadata": {
    "cse142.is_response": true,
    "deletable": false,
    "editable": false,
    "tags": []
   },
   "outputs": [],
   "source": [
    "df = render_csv(\"L1_hit_machine.csv\", columns=[\"size\", \"arg1\", \"arg2\",\"arg3\", \"IC\", \"CPI\", \"CT\", \"ET\"])\n",
    "df[\"GB_per_sec\"] = 8*df[\"arg2\"]*df[\"arg3\"]/(df[\"ET\"]*(10**9))\n",
    "display(df);\n",
    "plotPE(df=df, lines=True, what=[(\"arg2\", \"CPI\"),(\"arg2\", \"GB_per_sec\")])\n"
   ]
  },
  {
   "cell_type": "markdown",
   "metadata": {
    "deletable": false,
    "tags": []
   },
   "source": [
    "Pretty good! \n",
    "\n",
    "So, our processor can handle (at least) at 8 outstanding loads.  Recall that earlier, the lab asked whether the processor cared more about (i.e., could exploit more) parallelism between arithmetic operation or memory operations.  What did you answer?  What do you think now?\n",
    "\n",
    "Executing loads from parallel miss chains simultaneously allows the processor to \"hide\" memory latency:  Even though each load takes 4 cycles, running them in parallel makes it appear that each takes just 0.33 cycles on average.\n",
    "\n",
    "It's nice to hide the 4-cycle L1 hit time, but, as you learned from the last two labs, L1 hits are not where the real problems lie.\n",
    "\n",
    "### L1 Misses\n",
    "\n",
    "Let's see about hiding the latency of some L1 misses that hit in the L2.  To do this, we'll just expand the size of our miss machine to fit in the L2 but not the L1.  The L2 is 1.25MB, so 2MB should do it.  We'll also increase the link size to 64 bytes so we don't have any cache line reuse."
   ]
  },
  {
   "cell_type": "code",
   "execution_count": null,
   "metadata": {
    "cse142.is_response": true,
    "deletable": false,
    "tags": []
   },
   "outputs": [],
   "source": [
    "! cse142 job run \"./fiddle.exe -l ./build/miss_machines.so -f miss_machines -MHz 3300   -size 2097152 --arg1 64 --arg2 1 2 3 4 5 6 7 8 9 10 11 12 13 --arg3 10000000 --details -o L1_miss_machines.csv\"\n",
    "df = render_csv(\"L1_miss_machines.csv\", columns=[\"size\", \"arg1\", \"arg2\",\"arg3\", \"IC\", \"CPI\", \"CT\", \"ET\"])\n",
    "df[\"GB_per_sec\"] = 8*df[\"arg2\"]*df[\"arg3\"]/(df[\"ET\"]*(10**9))\n",
    "display(df);\n",
    "plotPE(df=df, lines=True, what=[(\"arg2\", \"CPI\"),(\"arg2\", \"GB_per_sec\")])\n"
   ]
  },
  {
   "cell_type": "markdown",
   "metadata": {
    "cse142.is_response": true,
    "cse142.points": 1,
    "cse142.question_type": "completeness",
    "deletable": false,
    "editable": false,
    "solution2": "hidden",
    "solution2_first": true,
    "tags": []
   },
   "source": [
    "<div class=\"alert alert-block alert-success\"><div class=\"question completeness\">\n",
    "\n",
    "### Question 24 (Completeness)<div class=\"question-text\">\n",
    "    \n",
    "Assume our 48KB cache with 64-byte lines and 12-way associativity and 64-bit addresses.  Given an address $A$, how can we compute a new address, $B$, that will map to the same associative set but is not part of the same cache line as $A$?  Given an index, $i$, into an array, how can we compute the index of another element, $j$, that will conflict with the first?\n",
    "\n",
    "</div>\n",
    "</div>  \n",
    "</div>"
   ]
  },
  {
   "cell_type": "markdown",
   "metadata": {
    "cse142.is_response": true,
    "cse142.points": 1,
    "cse142.question_type": "completeness",
    "deletable": false,
    "editable": true,
    "solution2": "hidden",
    "solution2_first": true
   },
   "source": [
    "<div class=\"alert alert-block alert-success\">\n",
    "<div class=\"answer\">\n",
    "    \n",
    "**How many outstanding cache misses can the processor handle?**\n",
    "        \n",
    "**What's the peak bandwidth?**\n",
    "    \n",
    "</div>\n",
    "</div>"
   ]
  },
  {
   "cell_type": "markdown",
   "metadata": {
    "solution2": "hidden",
    "tags": []
   },
   "source": [
    "<div class=\"solution\">\n",
    "    \n",
    "**How many outstanding cache misses can the processor handle?**   In the experiment we increase the amount of MLP _in our program_ from 1 to 13 parallel load chains.  When the number of parallel load chains exceeds the number of parallel loads the processor can handle, performance stops improving (i.e., CPI stops dropping) because performance doesn't benefit from the additional parallelism.  Put another way, the program now has more ILP than the hardware can make use of.  For the data I got for this experiment this happened with 10 miss chains, so I conclude that the number of outstanding misses the processor can handle is 10.\n",
    "        \n",
    "**What's the peak bandwidth?**  This is just the highest point in the graph on the right.  For me it was about 17.5GB/s.\n",
    "    \n",
    "</div>"
   ]
  },
  {
   "cell_type": "markdown",
   "metadata": {
    "deletable": false,
    "tags": []
   },
   "source": [
    "Let's go further!\n",
    "\n",
    "## L2 Misses\n",
    "\n",
    "Same drill:  We'll increase the miss machine size so it fit's in the L3 but not the L2:  The L3 is 12MB, so 16MB should be enough."
   ]
  },
  {
   "cell_type": "code",
   "execution_count": null,
   "metadata": {
    "cse142.is_response": true,
    "deletable": false,
    "tags": []
   },
   "outputs": [],
   "source": [
    "t = fiddle(fname=\"miss_machines.cpp\", function=\"miss_machines\", name=\"L2_miss_machines\",\n",
    "           opt=\"-O3 \", analyze=False, run=['perf_count'], \n",
    "           cmdline=f\"--size {16*1024*1024} --arg1 64 --arg2 1 2 3 4 5 6 7 8 9 10 11 12 13 --arg3 100000000\", \n",
    "           perf_cmdline=f\"--stat-set L2.cfg --MHz 3500  --calc GB_per_sec=arg3*arg2*8/ET/{1024*1024*1024}\")\n",
    "! cse142 job run \"./fiddle.exe -l ./build/miss_machines.so -f miss_machines -MHz 3600 -size {2*1024*1024} --arg1 64 --arg2 1 2 3 4 5 6 7 8 9 10 11 12 13 --arg3 100000000 --details -o L2_miss_machines.csv\"\n",
    "df = render_csv(\"L2_miss_machines.csv\", columns=[\"size\", \"arg1\", \"arg2\",\"arg3\", \"IC\", \"CPI\", \"CT\", \"ET\"])\n",
    "df[\"GB_per_sec\"] = 8*df[\"arg2\"]*df[\"arg3\"]/(df[\"ET\"]*(10**9))\n",
    "display(df);\n",
    "plotPE(df=df, lines=True, what=[(\"arg2\", \"CPI\"),(\"arg2\", \"GB_per_sec\")])\n"
   ]
  },
  {
   "cell_type": "markdown",
   "metadata": {
    "deletable": false,
    "editable": false,
    "tags": []
   },
   "source": [
    "Still 10 misses, but just around 16GB/s and an average latency of 1.75 cycles, and the L3 can do about 5.8GB/s.\n",
    "\n",
    "We are going to stop there.  The next step would be to do L3 misses, but it would take a lot more work to get meaningful results for DRAM, and the results are strongly dependent on how our systems are configured, which we discussed (and measured the bandwidth of in Lab 2)."
   ]
  },
  {
   "cell_type": "markdown",
   "metadata": {
    "deletable": false,
    "editable": false,
    "tags": []
   },
   "source": [
    "# Programming Lab"
   ]
  },
  {
   "cell_type": "markdown",
   "metadata": {
    "deletable": false,
    "editable": false,
    "tags": []
   },
   "source": [
    "## Integer to 7-segment Displays\n",
    "\n",
    "Computer hardware uses binary numbers internally. However, there are always cases where we need those numbers to be presented to real human beings! In this programming lab, we will use a program converting integer values into signals that an array of \"7-segment Displays\" can accept. This lab will help you practice of what you've learned in improving ILP of your code."
   ]
  },
  {
   "cell_type": "markdown",
   "metadata": {
    "deletable": false,
    "editable": false,
    "tags": []
   },
   "source": [
    "### 7-segment displays\n",
    "![A 7-seg display](https://www.electronics-tutorials.ws/wp-content/uploads/2018/05/articles-7-segment-display.jpg)\n",
    "\n",
    "7-segment display is one of the most frequent ways that computers/microcontrollers use to communicate with human beings. It's name coming from the fact that it uses 7 strips of LEDs to represent a number, a character or a symbol. The figure below shows the naming of each \"strip\" in a 7-segment display.\n",
    "\n",
    "![7-Segment Display Mapping](https://www.electronics-tutorials.ws/wp-content/uploads/2018/05/articles-segment1.gif)\n",
    "\n",
    "![Mapping for each number](https://www.electronics-tutorials.ws/wp-content/uploads/2018/05/articles-segment3.gif)\n",
    "\n",
    "\n",
    "### From a number to 7-segment display\n",
    "To let a 7-segment display showing the desired number, the computer must convert the binary numbers into the signals the can control each strip. The table below shows the mapping between numbers to those signals.\n",
    "\n",
    "| Decimal | a | b | c | d | e | f | g | Signal |\n",
    "|---------|---|---|---|---|---|---|---|--------|\n",
    "| 0       | x | x | x | x | x | x |   | 0x7E   |\n",
    "| 1       |   | x | x |   |   |   |   | 0x30   |\n",
    "| 2       | x | x |   | x | x |   | x | 0x6D   |\n",
    "| 3       | x | x | x | x |   |   | x | 0x79   |\n",
    "| 4       |   | x | x |   |   | x | x | 0x33   |\n",
    "| 5       | x |   | x | x |   | x | x | 0x5B   |\n",
    "| 6       | x |   | x | x | x | x | x | 0x5F   |\n",
    "| 7       | x | x | x |   |   |   |   | 0x70   |\n",
    "| 8       | x | x | x | x | x | x | x | 0x7F   |\n",
    "| 9       | x | x | x |   |   | x | x | 0x73   |\n",
    "| -       |   |   |   |   |   |   | x | 0x01   |\n",
    "\n",
    "As 32-bit integer can represent numbers between -2147483648 and 2147483647, we need an 11-digit 7-segment displays to show integer numbers. With the mapping above, if we want to show a number representing \"210\", we will send signal as 00 00 00 00 00 00 00 00 6D 30 7E to this array. If the number is \"-38\", we will send 6D 00 00 00 00 00 00 00 00 30 7E to this array."
   ]
  },
  {
   "cell_type": "markdown",
   "metadata": {
    "deletable": false,
    "editable": false,
    "tags": []
   },
   "source": [
    "Read through the code and comments to make sure you understand what the code is doing. \n",
    "\n",
    "## Detailed Requirements\n",
    "\n",
    "The requirements for the lab are pretty simple:\n",
    "\n",
    "1. The values in the source data arrays and it's width/height will be within the range of 32-bit intergers.\n",
    "2. The converted char/byte arrays for each number must always consist of 12 bytes. The 0th byte is the sign. If positive number, that byte should be 0. Otherwise, it's 0x6D. You must fill 0s if the most significant demical digits are not used. You should attach a The 11th character should always be a null character. We have initialized everything to be null. \n",
    "3. Your output must match the output of the code in `seven_seg_reference.hpp`.\n",
    "4. Your implementation should go in `seven_seg_solution.hpp`.  The starter version is just a copy of `seven_seg_reference.hpp`.\n"
   ]
  },
  {
   "cell_type": "markdown",
   "metadata": {
    "deletable": false,
    "editable": false,
    "tags": []
   },
   "source": [
    "## Running the Code\n",
    "\n",
    "The driver code for the lab is in `seven_seg_main.cpp` and `seven_seg.cpp`.  `seven_seg_main.cpp` is mostly command line processing (take a look if you want).  `seven_seg.cpp` is what actually calls your code:"
   ]
  },
  {
   "cell_type": "code",
   "execution_count": null,
   "metadata": {
    "deletable": false,
    "editable": false,
    "init_cell": true,
    "tags": []
   },
   "outputs": [],
   "source": [
    "render_code(\"seven_seg.cpp\")"
   ]
  },
  {
   "cell_type": "markdown",
   "metadata": {
    "deletable": false,
    "editable": false,
    "tags": []
   },
   "source": [
    "It defines four functions:\n",
    "\n",
    "* `seven_seg_reference_c` Calls the starter code with `size` value arrays.\n",
    "* `seven_seg_solution_c` Calls your code with `size` value arrays.\n",
    "\n",
    "It runs everything 10 times to get a more reliable measurement.\n",
    "\n",
    "To invoke these, you can build and run `seven_seg.exe`:"
   ]
  },
  {
   "cell_type": "code",
   "execution_count": null,
   "metadata": {
    "deletable": false,
    "editable": false,
    "tags": []
   },
   "outputs": [],
   "source": [
    "!cse142 job run 'rm seven_seg.exe; rm -f build/seven_seg*; make MATEXP_OPTIMIZE=\"-O4\" seven_seg.exe'\n",
    "!cse142 job run './seven_seg.exe'"
   ]
  },
  {
   "cell_type": "markdown",
   "metadata": {
    "deletable": false,
    "editable": false,
    "tags": []
   },
   "source": [
    "`seven_seg.exe` takes several command line parameters:"
   ]
  },
  {
   "cell_type": "markdown",
   "metadata": {
    "deletable": false,
    "editable": false,
    "tags": []
   },
   "source": [
    "The notable ones are:\n",
    "\n",
    "1. `-s` -- set the size of the value arrays to convert.\n",
    "2. `-f` what functions to run.\n",
    "3. `-d` sets the random seed.\n",
    "4. `-o` sets where statistics should go.\n",
    "5. `-i` sets the number of iterations.\n",
    "6. `-v` compares the result with the reference solution.\n",
    "\n",
    "The first five of these can take multiple values and `seven_seg.exe` will run all combinations and they will end up in `seven_seg.csv`:\n",
    "\n",
    "And, of course, we run it all in the cloud:"
   ]
  },
  {
   "cell_type": "code",
   "execution_count": null,
   "metadata": {
    "deletable": false,
    "editable": false,
    "tags": []
   },
   "outputs": [],
   "source": [
    "!cse142 job run \"./seven_seg.exe -M 3300 -i 10 --detail -f seven_seg_reference_c seven_seg_solution_c -size 33554432 -o seven_seg.csv\"\n",
    "render_csv(\"seven_seg.csv\")"
   ]
  },
  {
   "cell_type": "markdown",
   "metadata": {
    "deletable": false,
    "editable": false,
    "tags": []
   },
   "source": [
    "And, of course, you should always ensure your implementation generate correct results."
   ]
  },
  {
   "cell_type": "code",
   "execution_count": null,
   "metadata": {
    "deletable": false,
    "editable": false,
    "tags": []
   },
   "outputs": [],
   "source": [
    "!cse142 job run \"make seven_seg.exe\"\n",
    "!cse142 job run \"./seven_seg.exe -v -M 3300 -f seven_seg_reference_c seven_seg_solution_c  -size 16\"\n",
    "render_csv(\"stats.csv\")"
   ]
  },
  {
   "cell_type": "markdown",
   "metadata": {
    "deletable": false,
    "editable": false,
    "tags": []
   },
   "source": [
    "## Things To Try\n",
    "\n",
    "There are two main challenges I see in this lab:\n",
    "\n",
    "1. Exploit the instruction parallelism of the code, primarily by breaking the chain of data dependencies to allow parallel memory accesses and parallel execution of ALUs.\n",
    "2. Eliminate the branch misses, or can you eliminiate all branches?\n",
    "\n",
    "The benchmarks are structured to evaluate your solution's success on both of these challenges.\n",
    "\n",
    "Can you remind yourself regarding what you have gone through in the lectures and in the lab?"
   ]
  },
  {
   "cell_type": "markdown",
   "metadata": {
    "deletable": false,
    "editable": false,
    "tags": []
   },
   "source": [
    "## Do Your Work Here\n",
    "\n",
    "Below are the key commands you'll need to make progress on the lab."
   ]
  },
  {
   "cell_type": "markdown",
   "metadata": {
    "deletable": false,
    "editable": false,
    "tags": []
   },
   "source": [
    "### Compiling and Running\n",
    "\n",
    "You can compile and the benchmarks locally using this command.  This is only useful for debugging.  Performance running locally is not very meaningful:"
   ]
  },
  {
   "cell_type": "code",
   "execution_count": null,
   "metadata": {
    "deletable": false,
    "tags": []
   },
   "outputs": [],
   "source": [
    "!rm -f build/seven_seg* seven_seg.exe\n",
    "!make seven_seg.exe\n",
    "!./seven_seg.exe"
   ]
  },
  {
   "cell_type": "markdown",
   "metadata": {
    "deletable": false,
    "editable": false,
    "tags": []
   },
   "source": [
    "Run the benchmark in the cloud and compare your performance with the reference."
   ]
  },
  {
   "cell_type": "code",
   "execution_count": null,
   "metadata": {
    "deletable": false,
    "tags": []
   },
   "outputs": [],
   "source": [
    "!cse142 job run \"make seven_seg.exe\"\n",
    "!cse142 job run './seven_seg.exe -M 3300 -i 10 -f seven_seg_solution_c seven_seg_reference_c -s 16777216'"
   ]
  },
  {
   "cell_type": "markdown",
   "metadata": {
    "deletable": false,
    "editable": false,
    "tags": []
   },
   "source": [
    "Look at the results"
   ]
  },
  {
   "cell_type": "code",
   "execution_count": null,
   "metadata": {
    "deletable": false,
    "editable": false,
    "tags": []
   },
   "outputs": [],
   "source": [
    "render_csv(\"stats.csv\")"
   ]
  },
  {
   "cell_type": "markdown",
   "metadata": {
    "deletable": false,
    "editable": false,
    "tags": []
   },
   "source": [
    "This command will approximate what the autograder will do. The cells below will show your results and what the autograder will do with them."
   ]
  },
  {
   "cell_type": "code",
   "execution_count": null,
   "metadata": {
    "deletable": false,
    "tags": []
   },
   "outputs": [],
   "source": [
    "!cse142 job run \"make autograde\"\n",
    "render_csv(\"bench.csv\")"
   ]
  },
  {
   "cell_type": "code",
   "execution_count": null,
   "metadata": {
    "deletable": false,
    "editable": false,
    "tags": []
   },
   "outputs": [],
   "source": [
    "from autograde import compute_all_scores\n",
    "df = compute_all_scores(dir=\".\")\n",
    "display(df)\n",
    "print(f\"total points: {round(sum(df['capped_score']), 2)}\")"
   ]
  },
  {
   "cell_type": "markdown",
   "metadata": {
    "deletable": false,
    "editable": false,
    "tags": []
   },
   "source": [
    "### Looking at Data"
   ]
  },
  {
   "cell_type": "markdown",
   "metadata": {
    "deletable": false,
    "editable": false,
    "tags": []
   },
   "source": [
    "The result will be lots of data in lots of csv files.  For instance, if you run the command in the previous section, you'll get `stats.csv`.  Let's generate another stats file:"
   ]
  },
  {
   "cell_type": "code",
   "execution_count": null,
   "metadata": {
    "deletable": false,
    "tags": []
   },
   "outputs": [],
   "source": [
    "!cse142 job run \"./seven_seg.exe -M 3300 -o other_stats.csv -function seven_seg_solution_c -s 16777216\""
   ]
  },
  {
   "cell_type": "markdown",
   "metadata": {
    "deletable": false,
    "editable": false,
    "tags": []
   },
   "source": [
    "  You can load and view several at once like this:"
   ]
  },
  {
   "cell_type": "code",
   "execution_count": null,
   "metadata": {
    "deletable": false,
    "tags": []
   },
   "outputs": [],
   "source": [
    "df = render_csv([\"stats.csv\", \"other_stats.csv\"]).sort_values(by=\"ET\")\n",
    "df"
   ]
  },
  {
   "cell_type": "markdown",
   "metadata": {
    "deletable": false,
    "editable": false,
    "tags": []
   },
   "source": [
    "That command collects all the `.csv` files provide, selects a useful set of columns for this PA, sorts by `ET`, and display the top 2 elements.\n",
    "\n",
    "If you'd rather work on the data in Excel (or whatever), you can export it as a CSV file:"
   ]
  },
  {
   "cell_type": "code",
   "execution_count": null,
   "metadata": {
    "deletable": false,
    "editable": false,
    "tags": []
   },
   "outputs": [],
   "source": [
    "df.to_csv(\"my_data.csv\")"
   ]
  },
  {
   "cell_type": "markdown",
   "metadata": {
    "deletable": false,
    "editable": false,
    "tags": []
   },
   "source": [
    "### Profiling \n",
    "\n",
    "Profiling can be valuable tool in figuring out where your code is spending time.  \n",
    "\n",
    "To profile your allocator, you need to recompile it with profiling enabled:\n",
    "\n",
    "**NOTE:** Don't forget to rebuild without the `-pg` flag. BUilding in support for gprof will slow down your code a bit."
   ]
  },
  {
   "cell_type": "code",
   "execution_count": null,
   "metadata": {
    "deletable": false,
    "tags": []
   },
   "outputs": [],
   "source": [
    "!make clean seven_seg.exe MATEXP_OPTIMIZE=-pg "
   ]
  },
  {
   "cell_type": "markdown",
   "metadata": {
    "deletable": false,
    "editable": false,
    "tags": []
   },
   "source": [
    "You'll need to profile one type of benchmark at a time.  just run one of the lines below at a time.  For good accuracy, you should profile in the cloud.  \n",
    "\n",
    "Think carefully about to profile:\n",
    "\n",
    "1.  It's not a bad idea to profile the whole benchark, but it can be a bit hard to interpret the results, because there's a lot going on.\n",
    "2.  The results are sometimes clearer if you focus on just one test case.\n",
    "\n",
    "Here's how to profile in the cloud:"
   ]
  },
  {
   "cell_type": "code",
   "execution_count": null,
   "metadata": {
    "deletable": false,
    "tags": []
   },
   "outputs": [],
   "source": [
    "!cse142 job run \"./seven_seg.exe -M 3300 -function seven_seg_reference_c; gprof ./seven_seg.exe > gprof.out\"\n",
    "!cat gprof.out"
   ]
  },
  {
   "cell_type": "markdown",
   "metadata": {
    "deletable": false,
    "editable": false,
    "tags": []
   },
   "source": [
    "The output is a big for Jupyter Notebook.  In a terminal you can do:\n",
    "\n",
    "```\n",
    "less -S gprof.out\n",
    "\n",
    "```\n",
    "\n",
    "Which will let you look at the file without wrapped lines.\n",
    "\n",
    "You may notice some unfamiliar functions.  Here's what some of them are:\n",
    "\n",
    "1.  `nlohmann::basic*`: This is a json library.  If you spend much time here, you aren't running a large enough test case.\n",
    "2.  `boost::*` or `OptionSpec` various utilities for command line parsing and parameter passing.  Again, if you see this, run a larger test case.\n",
    "3.  `mcount` is the gprof instrumentation function.  It gets called a lot, but it's not there.\n",
    "\n",
    "Another problem you may run into:  the compiler may inline everything so all the time is one function.  This is not very informative.  You can get around by turning off inlining:"
   ]
  },
  {
   "cell_type": "code",
   "execution_count": null,
   "metadata": {
    "deletable": false,
    "tags": []
   },
   "outputs": [],
   "source": [
    "!make clean seven_seg.exe MATEXP_OPTIMIZE=\"-pg -O3\"\n",
    "!\"./seven_seg.exe -M 3300 -function seven_seg_solution_c -s 10 -power 2; gprof -l ./seven_seg.exe > gprof.out\" # Run one test"
   ]
  },
  {
   "cell_type": "code",
   "execution_count": null,
   "metadata": {
    "deletable": false,
    "editable": false,
    "tags": []
   },
   "outputs": [],
   "source": [
    "!cat gprof.out"
   ]
  },
  {
   "cell_type": "markdown",
   "metadata": {
    "deletable": false,
    "editable": false,
    "tags": []
   },
   "source": [
    "You might notice that performance drops significantly!  The resulting profile has more detail, but it's also not as accurate a reflection of your real program.  However, it can provide useful guidance about where you code is spending time.  YOu have to be careful though"
   ]
  },
  {
   "cell_type": "markdown",
   "metadata": {
    "deletable": false,
    "editable": false,
    "tags": []
   },
   "source": [
    "### Debugging \n",
    "\n",
    "Your code will certainly have errors in it, and you'll need to debug.  THe first thing you need to do is to tone down the optimizations, because they make debugging almost impossible.  Recall that `-Og` is the right flag to use for optimization while debugging:"
   ]
  },
  {
   "cell_type": "code",
   "execution_count": null,
   "metadata": {
    "deletable": false,
    "tags": []
   },
   "outputs": [],
   "source": [
    "!make clean seven_seg.exe MATEXP_OPTIMIZE=\"-Og\""
   ]
  },
  {
   "cell_type": "markdown",
   "metadata": {
    "deletable": false,
    "editable": false,
    "tags": []
   },
   "source": [
    "Unfortunately, the Linux debugger `gdb` doesn't work inside the note book.  If you want to use it, you can do so at the terminal:\n",
    "\n",
    "```\n",
    "$ gdb matexp.exe\n",
    "GNU gdb (Ubuntu 8.1.1-0ubuntu1) 8.1.1\n",
    "Copyright (C) 2018 Free Software Foundation, Inc.\n",
    "License GPLv3+: GNU GPL version 3 or later <http://gnu.org/licenses/gpl.html>\n",
    "This is free software: you are free to change and redistribute it.\n",
    "There is NO WARRANTY, to the extent permitted by law.  Type \"show copying\"\n",
    "and \"show warranty\" for details.\n",
    "This GDB was configured as \"x86_64-linux-gnu\".\n",
    "Type \"show configuration\" for configuration details.\n",
    "For bug reporting instructions, please see:\n",
    "<http://www.gnu.org/software/gdb/bugs/>.\n",
    "Find the GDB manual and other documentation resources online at:\n",
    "<http://www.gnu.org/software/gdb/documentation/>.\n",
    "For help, type \"help\".\n",
    "Type \"apropos word\" to search for commands related to \"word\"...\n",
    "Reading symbols from matexp.exe...rdone.\n",
    "(gdb) run --function matexp_solution_c --size 30 --power 3\n",
    "Starting program: /cse142/labs/CSE141pp-Lab-Caches-II/matexp.exe --function matexp_solution_c --size 30 --power 3\n",
    "warning: Error disabling address space randomization: Operation not permitted\n",
    "[Thread debugging using libthread_db enabled]\n",
    "Using host libthread_db library \"/lib/x86_64-linux-gnu/libthread_db.so.1\".\n",
    "registering function: bench_solution\n",
    "registering function: bench_reference\n",
    "registering function: matexp_reference_c\n",
    "registering function: matexp_solution_c\n",
    "Loading Native engine.\n",
    "Gonna run matexp_solution_c\n",
    "Running matexp_solution_c\n",
    ".\n",
    "[Inferior 1 (process 61156) exited normally]\n",
    "(gdb)\n",
    "```\n",
    "\n",
    "The best place to start is at `matexp_solution_c`.  From there you can step into your solution code.\n",
    "\n",
    "```\n",
    "bash$ gdb alloc_main.exe\n",
    "(gdb) break matexp_solution_c\n",
    "(gdb) run --function matexp_solution_c --size 100  --power 2\n",
    "(gdb) list\n",
    "```\n",
    "\n",
    "Sometimes that will note give a good result, even without optimizations.  Instead, you can set a break point at a line number:\n",
    "\n",
    "```\n",
    "bash$ gdb alloc_main.exe\n",
    "(gdb) break matexp_solution.hpp:47\n",
    "(gdb) run --function matexp_solution_c --size 100  --power 2\n",
    "(gdb) list\n",
    "```\n",
    "\n",
    "There's a pretty good `gdb` [tutorial here](https://www.cs.cmu.edu/~gilpin/tutorial/)."
   ]
  },
  {
   "cell_type": "markdown",
   "metadata": {
    "deletable": false,
    "editable": false,
    "tags": []
   },
   "source": [
    "## Final Measurement"
   ]
  },
  {
   "cell_type": "markdown",
   "metadata": {
    "deletable": false,
    "editable": false,
    "tags": []
   },
   "source": [
    "Running the cell does just what the Gradescope autograder does.  And the cell below shows the name and target speedups for each benchmark.  This takes 1-2 minutes to run.\n",
    "\n",
    "\n",
    "<div class=\"alert alert-block alert-danger\">\n",
    "\n",
    "**Only Gradescope Counts** The scores produced here **do not** count.  Only gradescope counts.  The results here should match what Gradescope does, but I would test your solution on Gradescope well-ahead of the deadline to ensure your code is working like you expect.\n",
    "    \n",
    "</div>\n",
    "\n",
    "<div class=\"alert alert-block alert-danger\">\n",
    "\n",
    "**The autograder doesn't pass additional parameters**. You'll need to set up the optimal configurations your code in the best way possible.\n",
    "    \n",
    "</div>\n"
   ]
  },
  {
   "cell_type": "code",
   "execution_count": null,
   "metadata": {
    "deletable": false,
    "tags": []
   },
   "outputs": [],
   "source": [
    "!rm -f build/seven_seg*\n",
    "!cse142 job run \"make autograde\""
   ]
  },
  {
   "cell_type": "markdown",
   "metadata": {
    "deletable": false,
    "editable": false,
    "tags": []
   },
   "source": [
    "And run the autograder"
   ]
  },
  {
   "cell_type": "code",
   "execution_count": null,
   "metadata": {
    "deletable": false,
    "editable": false,
    "tags": []
   },
   "outputs": [],
   "source": [
    "!mkdir -p autograde; cp bench.csv autograde; cp correctness.csv autograde\n",
    "!./autograde.py --submission autograde --results autograde.json\n",
    "from autograde import compute_all_scores\n",
    "df = compute_all_scores(dir=\"autograde\")\n",
    "display(df)\n",
    "print(f\"total points (performance): {round(sum(df['capped_score']), 2)}\")\n",
    "display(render_csv(\"correctness.csv\"))\n",
    "corrects = compute_correctness(dir=\"autograde\")\n",
    "print(f\"correctness points: {corrects/3*100}\")"
   ]
  },
  {
   "cell_type": "markdown",
   "metadata": {
    "deletable": false,
    "editable": false,
    "tags": []
   },
   "source": [
    "The \"capped_score\" column contains the number of points you'll receive.\n",
    "\n",
    "And see the autograder's output like this:"
   ]
  },
  {
   "cell_type": "code",
   "execution_count": null,
   "metadata": {
    "deletable": false,
    "editable": false,
    "tags": []
   },
   "outputs": [],
   "source": [
    "render_code(\"autograde.json\")"
   ]
  },
  {
   "cell_type": "markdown",
   "metadata": {
    "deletable": false,
    "editable": false,
    "tags": []
   },
   "source": [
    "Most of it is internal stuff that gradscope needs, but the key parts are the `score`, `max_score`, and `output` fields.\n",
    "\n",
    "All that's left is commit your code:"
   ]
  },
  {
   "cell_type": "code",
   "execution_count": null,
   "metadata": {
    "deletable": false,
    "editable": false,
    "tags": []
   },
   "outputs": [],
   "source": [
    "!git commit -am \"Solution to the lab.\"\n",
    "!git push"
   ]
  },
  {
   "cell_type": "markdown",
   "metadata": {
    "deletable": false,
    "tags": []
   },
   "source": [
    "If `git push` asks for your username, you'll need to push from the command line.\n",
    "\n",
    "If `git commit` tells you have uncommitted files, that's not a problem. \n",
    "\n",
    "If `git commit` tell you something like:\n",
    "\n",
    "```\n",
    "*** Please tell me who you are.\n",
    "\n",
    "Run\n",
    "\n",
    "git config --global user.email \"you@example.com\"\n",
    "git config --global user.name \"Your Name\"\n",
    "\n",
    "to set your account's default identity.\n",
    "Omit --global to set the identity only in this repository.\n",
    "\n",
    "fatal: unable to auto-detect email address (got 'prcheng@dsmlp-jupyter-prcheng.(none)')\n",
    "Warning: Permanently added the RSA host key for IP address '140.82.112.3' to the list of known hosts.\n",
    "Everything up-to-date\n",
    "```\n",
    "\n",
    "Then you can do (but fill in your @ucr.edu email and your name):"
   ]
  },
  {
   "cell_type": "code",
   "execution_count": null,
   "metadata": {
    "cse142.is_response": true,
    "deletable": false,
    "editable": true
   },
   "outputs": [],
   "source": [
    "!git config --global user.email \"you@example.com\"\n",
    "!git config --global user.name \"Your Name\""
   ]
  },
  {
   "cell_type": "markdown",
   "metadata": {
    "deletable": false,
    "tags": []
   },
   "source": [
    "# Recap"
   ]
  },
  {
   "cell_type": "markdown",
   "metadata": {
    "deletable": false,
    "editable": false,
    "tags": []
   },
   "source": [
    "This lab completes our tour of exploiting modern processor (single processor) features.  It explored what's required to exploit instruction level parallelism. It shows examples achieving better ILPs using key components of modern processors: the branch predictors and out-of-order issue, superscalar pipelines. Finally, it looked into the compiler optimizations that help us easier to leverage these processor features."
   ]
  },
  {
   "cell_type": "markdown",
   "metadata": {
    "deletable": false,
    "editable": false,
    "tags": []
   },
   "source": [
    "# Turning In the Lab"
   ]
  },
  {
   "cell_type": "markdown",
   "metadata": {
    "deletable": false,
    "editable": false,
    "tags": []
   },
   "source": [
    "For each lab, there are two different labs on gradescope:\n",
    "\n",
    "1.  The lab notebook.\n",
    "2.  The programming lab.\n",
    "3.  A post-lab survey which is embedded below.\n",
    "\n",
    "<div class=\"alert alert-block alert-danger\">\n",
    "\n",
    "**NOTE:** Filling out the form above _before_ the deadline is the _only_ mechanism available to receive credit without turning in the lab on time.\n",
    "    \n",
    "</div>\n",
    "\n",
    "If it's more than a day before the deadline, you can reach out via Piazza and hopefully we can get it sorted out.\n",
    "## The Note Book\n",
    "\n",
    "You need to turn in your lab notebook and your programming lab separately. \n",
    "\n",
    "After you complete the lab, you will turn it in by creating a version of the notebook that only contains your answers and then printing that to a pdf.\n",
    "\n",
    "**Step 1:**  Save your workbook!!!"
   ]
  },
  {
   "cell_type": "code",
   "execution_count": null,
   "metadata": {
    "deletable": false,
    "editable": false,
    "tags": []
   },
   "outputs": [],
   "source": [
    "!for i in 1 2 3 4 5; do echo Save your notebook!; sleep 1; done"
   ]
  },
  {
   "cell_type": "markdown",
   "metadata": {
    "deletable": false,
    "editable": false,
    "tags": []
   },
   "source": [
    "**Step 2:**  Run this command:"
   ]
  },
  {
   "cell_type": "code",
   "execution_count": null,
   "metadata": {
    "deletable": false,
    "editable": false,
    "tags": []
   },
   "outputs": [],
   "source": [
    "!cse142 turnin Lab.ipynb\n",
    "!ls -lh Lab.turnin.ipynb"
   ]
  },
  {
   "cell_type": "markdown",
   "metadata": {
    "deletable": false,
    "editable": false,
    "tags": []
   },
   "source": [
    "The date in the above file listing should show that you just created `Lab.turnin.ipynb`\n",
    "\n",
    "**Step 3:**  Click on this link to open it: [./Lab.turnin.ipynb](./Lab.turnin.ipynb)\n",
    "\n",
    "\n",
    "**Step 4:**  Select \"Save and export notebook as\" from _your jupyterhub's_ \"file\" menu and select \"PDF\".\n",
    "\n",
    "**Step 5:**  Make sure all your answers are visible and not cut off the side of the page.\n",
    "\n",
    "**Step 6:**  Turn in that PDF via gradescope."
   ]
  },
  {
   "cell_type": "markdown",
   "metadata": {
    "deletable": false,
    "editable": false,
    "tags": []
   },
   "source": [
    "## The Programming Lab\n",
    "\n",
    "You'll turn in your programming lab by providing gradescope with your github repo.   It'll run the autograder and return the results."
   ]
  },
  {
   "cell_type": "markdown",
   "metadata": {
    "deletable": false,
    "tags": []
   },
   "source": [
    "\n",
    "## Post-lab Survey\n",
    "\n",
    "Please fill out this survey when you've finished the lab.  You can only submit once.  Be sure to press \"submit\", your answers won't be saved in the notebook.\n",
    "\n",
    "https://forms.gle/tavDMxZezeuNy4Gd6"
   ]
  },
  {
   "cell_type": "code",
   "execution_count": null,
   "metadata": {},
   "outputs": [],
   "source": []
  }
 ],
 "metadata": {
  "celltoolbar": "Initialization Cell",
  "kernelspec": {
   "display_name": "Python 3 (ipykernel)",
   "language": "python",
   "name": "python3"
  },
  "language_info": {
   "codemirror_mode": {
    "name": "ipython",
    "version": 3
   },
   "file_extension": ".py",
   "mimetype": "text/x-python",
   "name": "python",
   "nbconvert_exporter": "python",
   "pygments_lexer": "ipython3",
   "version": "3.8.10"
  },
  "toc": {
   "base_numbering": 1,
   "nav_menu": {},
   "number_sections": true,
   "sideBar": true,
   "skip_h1_title": false,
   "title_cell": "Table of Contents",
   "title_sidebar": "Contents",
   "toc_cell": false,
   "toc_position": {
    "height": "calc(100% - 180px)",
    "left": "10px",
    "top": "150px",
    "width": "335px"
   },
   "toc_section_display": true,
   "toc_window_display": true
  },
  "toc-autonumbering": true,
  "widgets": {
   "application/vnd.jupyter.widget-state+json": {
    "state": {},
    "version_major": 2,
    "version_minor": 0
   }
  }
 },
 "nbformat": 4,
 "nbformat_minor": 4
}
